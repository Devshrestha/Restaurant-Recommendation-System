{
  "cells": [
    {
      "cell_type": "markdown",
      "id": "2a891d3d",
      "metadata": {
        "id": "2a891d3d"
      },
      "source": [
        "# Project - Building a Restaurant Recommendation System"
      ]
    },
    {
      "cell_type": "markdown",
      "id": "aad13571",
      "metadata": {
        "id": "aad13571"
      },
      "source": [
        "Link for the submission - https://drive.google.com/drive/folders/1yG_sHXO9HluqhL6LU4PV8A-JLWJOIbPh?usp=sharing"
      ]
    },
    {
      "cell_type": "markdown",
      "id": "575c0cbc",
      "metadata": {
        "id": "575c0cbc"
      },
      "source": [
        "## Team - Flipping - a - Coin \n",
        "### 1. Devansh Shrestha\n",
        "### 2. Lakshay Chawla\n",
        "### 3. Rommel Jalasutram\n",
        "### 4. Varnika Vatsyayan"
      ]
    },
    {
      "cell_type": "markdown",
      "id": "478a45e8",
      "metadata": {
        "id": "478a45e8"
      },
      "source": [
        "### Aim - To build a restaurant recommendation based on yelp dataset using various techniques."
      ]
    },
    {
      "cell_type": "markdown",
      "id": "8fee12be",
      "metadata": {
        "id": "8fee12be"
      },
      "source": [
        "# Introduction -\n",
        "#### We got our datasetr from yelp. The dataset contains 5 tables namely\n",
        "##### 1.Business\n",
        "##### 2.User\n",
        "##### 3.Review\n",
        "##### 4.Checkin\n",
        "##### 5.Tip\n",
        "#### Reading the dataset from a tar file , and then converting it to CSV files.\n",
        "#### We performed EDA on the dataset and then came up with a plan of action. \n",
        "#### Firstly, we used item-item collaborative based filtering using cosine similarity. \n",
        "#### Second, we used embeddings of latent factors using stoichastic gradient descent. \n",
        "#### Last but not the least, we implemented a hybrid of the above two."
      ]
    },
    {
      "cell_type": "markdown",
      "id": "ace5f1b9",
      "metadata": {
        "id": "ace5f1b9"
      },
      "source": [
        "## Libraries to be used"
      ]
    },
    {
      "cell_type": "code",
      "execution_count": null,
      "id": "752a03f6",
      "metadata": {
        "id": "752a03f6"
      },
      "outputs": [],
      "source": [
        "import tarfile\n",
        "import json\n",
        "import pandas as pd\n",
        "import os\n",
        "import pandas as pd\n",
        "import numpy as np\n",
        "import os\n",
        "import seaborn as sns\n",
        "import matplotlib.pyplot as plt\n",
        "from prettytable import PrettyTable\n",
        "from pywaffle import Waffle\n",
        "from scipy import spatial\n",
        "import tensorflow as tf\n",
        "from sklearn.model_selection import train_test_split\n",
        "from tensorflow.keras.layers import Input, Embedding, Add, Dot, Flatten,Reshape,Dense,Concatenate\n",
        "from tensorflow.keras import backend as K\n",
        "from tensorflow.keras.layers import Activation\n",
        "from tensorflow.keras import Model\n",
        "from tensorflow.keras.regularizers import l2\n",
        "from tensorflow.keras.optimizers import Adam\n",
        "from tensorflow.keras import utils\n",
        "from sklearn import  preprocessing\n",
        "from IPython.display import Image"
      ]
    },
    {
      "cell_type": "markdown",
      "id": "e0eb2fba",
      "metadata": {
        "id": "e0eb2fba"
      },
      "source": [
        "## Extracting the files"
      ]
    },
    {
      "cell_type": "code",
      "execution_count": null,
      "id": "fd4357ed",
      "metadata": {
        "id": "fd4357ed",
        "outputId": "ffce1efc-a839-40d0-d6b7-b8818b70f5fa"
      },
      "outputs": [
        {
          "data": {
            "text/plain": [
              "'C:\\\\Users\\\\laksh\\\\Downloads\\\\CODES\\\\Course\\\\DS-1\\\\Project'"
            ]
          },
          "execution_count": 8,
          "metadata": {},
          "output_type": "execute_result"
        }
      ],
      "source": [
        "%pwd"
      ]
    },
    {
      "cell_type": "code",
      "execution_count": null,
      "id": "dcf2ea5d",
      "metadata": {
        "id": "dcf2ea5d"
      },
      "outputs": [],
      "source": [
        "# open file\n",
        "file = tarfile.open('yelp_photos.tar')\n",
        "  \n",
        "# print file names\n",
        "print(file.getnames())\n",
        "  \n",
        "# extract files\n",
        "file.extractall('yelp_photos')\n",
        "  \n",
        "# close file\n",
        "file.close()"
      ]
    },
    {
      "cell_type": "code",
      "execution_count": null,
      "id": "85104510",
      "metadata": {
        "id": "85104510"
      },
      "outputs": [],
      "source": [
        "for i, walk_items in enumerate(os.walk(dataset_path)):\n",
        "    for j in walk_items[2]:\n",
        "        if j.split('.')[-1] == 'json':    \n",
        "            temp = [json.loads(line) for line in open(f'{j}','rb')]\n",
        "            df = pd.DataFrame.from_dict(temp)\n",
        "            df.to_csv(f\"{j.split('.')[-2].split('_')[-1]}.csv\")\n",
        "    break"
      ]
    },
    {
      "cell_type": "code",
      "execution_count": null,
      "id": "96608605",
      "metadata": {
        "id": "96608605",
        "outputId": "a795bdb1-7ffa-489c-95fc-9a60175196b0"
      },
      "outputs": [
        {
          "name": "stdout",
          "output_type": "stream",
          "text": [
            "C:\\Users\\laksh\\Downloads\\CODES\\Course\\DS-1\\Project\\csv\n"
          ]
        }
      ],
      "source": [
        "cd C:\\\\Users\\\\laksh\\\\Downloads\\\\CODES\\\\Course\\\\DS-1\\\\Project\\\\csv"
      ]
    },
    {
      "cell_type": "code",
      "execution_count": null,
      "id": "196a146b",
      "metadata": {
        "id": "196a146b"
      },
      "outputs": [],
      "source": [
        "## Setting the dataset path.\n",
        "dataset_path = %pwd"
      ]
    },
    {
      "cell_type": "markdown",
      "id": "2e86cb14",
      "metadata": {
        "id": "2e86cb14"
      },
      "source": [
        "## EDA and Pre-processing"
      ]
    },
    {
      "cell_type": "code",
      "execution_count": null,
      "id": "27d6c36a",
      "metadata": {
        "id": "27d6c36a"
      },
      "outputs": [],
      "source": [
        "## Reading all the csv files\n",
        "for i, walk_items in enumerate(os.walk(dataset_path)):\n",
        "    for j in walk_items[2]:\n",
        "        globals()[j.split('.')[0]] = pd.read_csv(f'{j}', index_col=0)"
      ]
    },
    {
      "cell_type": "code",
      "execution_count": null,
      "id": "631b8079",
      "metadata": {
        "id": "631b8079"
      },
      "outputs": [],
      "source": [
        "dataframes = [business, checkin, review, tip, user]\n",
        "names = ['Business', 'Checkin', 'Review', 'Tip', 'User']"
      ]
    },
    {
      "cell_type": "code",
      "execution_count": null,
      "id": "34bcee9a",
      "metadata": {
        "id": "34bcee9a",
        "outputId": "93eca5e5-570f-4983-f7bf-3aa075565e09"
      },
      "outputs": [
        {
          "name": "stdout",
          "output_type": "stream",
          "text": [
            "+------------+---------------+\n",
            "| Table Name |     Shape     |\n",
            "+------------+---------------+\n",
            "|  Business  |  (150346, 14) |\n",
            "|  Checkin   |  (131930, 2)  |\n",
            "|   Review   |  (6990280, 9) |\n",
            "|    Tip     |  (908915, 5)  |\n",
            "|    User    | (1987897, 22) |\n",
            "+------------+---------------+\n"
          ]
        }
      ],
      "source": [
        "pt = PrettyTable()\n",
        "pt.field_names = [\"Table Name\",\"Shape\"]\n",
        "for i in range(len(names)):\n",
        "    pt.add_row([names[i],dataframes[i].shape])\n",
        "print(pt)"
      ]
    },
    {
      "cell_type": "code",
      "execution_count": null,
      "id": "7fe5e193",
      "metadata": {
        "id": "7fe5e193",
        "outputId": "c4ead31c-30f5-428b-f8e7-13417779b97f"
      },
      "outputs": [
        {
          "name": "stdout",
          "output_type": "stream",
          "text": [
            "Null Values for table Business\n",
            "+--------------+---------------------------+\n",
            "| Column Name  | Percentage of null values |\n",
            "+--------------+---------------------------+\n",
            "| business_id  |            0.0            |\n",
            "|     name     |            0.0            |\n",
            "|   address    |           3.4101          |\n",
            "|     city     |            0.0            |\n",
            "|    state     |            0.0            |\n",
            "| postal_code  |           0.0486          |\n",
            "|   latitude   |            0.0            |\n",
            "|  longitude   |            0.0            |\n",
            "|    stars     |            0.0            |\n",
            "| review_count |            0.0            |\n",
            "|   is_open    |            0.0            |\n",
            "|  attributes  |           9.1416          |\n",
            "|  categories  |           0.0685          |\n",
            "|    hours     |          15.4464          |\n",
            "+--------------+---------------------------+\n",
            "Datatypes of table Business\n",
            "+--------------+-----------+\n",
            "| Column Name  | Data Type |\n",
            "+--------------+-----------+\n",
            "| business_id  |   object  |\n",
            "|     name     |   object  |\n",
            "|   address    |   object  |\n",
            "|     city     |   object  |\n",
            "|    state     |   object  |\n",
            "| postal_code  |   object  |\n",
            "|   latitude   |  float64  |\n",
            "|  longitude   |  float64  |\n",
            "|    stars     |  float64  |\n",
            "| review_count |   int64   |\n",
            "|   is_open    |   int64   |\n",
            "|  attributes  |   object  |\n",
            "|  categories  |   object  |\n",
            "|    hours     |   object  |\n",
            "+--------------+-----------+\n",
            "Unique datatypes in table Business\n",
            "+-----------+----------------------+\n",
            "| Data Type | Number of Occurences |\n",
            "+-----------+----------------------+\n",
            "|   object  |          9           |\n",
            "|  float64  |          3           |\n",
            "|   int64   |          2           |\n",
            "+-----------+----------------------+\n",
            "---------------------------------------------------------------------------\n",
            "Null Values for table Checkin\n",
            "+-------------+---------------------------+\n",
            "| Column Name | Percentage of null values |\n",
            "+-------------+---------------------------+\n",
            "| business_id |            0.0            |\n",
            "|     date    |            0.0            |\n",
            "+-------------+---------------------------+\n",
            "Datatypes of table Checkin\n",
            "+-------------+-----------+\n",
            "| Column Name | Data Type |\n",
            "+-------------+-----------+\n",
            "| business_id |   object  |\n",
            "|     date    |   object  |\n",
            "+-------------+-----------+\n",
            "Unique datatypes in table Checkin\n",
            "+-----------+----------------------+\n",
            "| Data Type | Number of Occurences |\n",
            "+-----------+----------------------+\n",
            "|   object  |          2           |\n",
            "+-----------+----------------------+\n",
            "---------------------------------------------------------------------------\n",
            "Null Values for table Review\n",
            "+-------------+---------------------------+\n",
            "| Column Name | Percentage of null values |\n",
            "+-------------+---------------------------+\n",
            "|  review_id  |            0.0            |\n",
            "|   user_id   |            0.0            |\n",
            "| business_id |            0.0            |\n",
            "|    stars    |            0.0            |\n",
            "|    useful   |            0.0            |\n",
            "|    funny    |            0.0            |\n",
            "|     cool    |            0.0            |\n",
            "|     text    |            0.0            |\n",
            "|     date    |            0.0            |\n",
            "+-------------+---------------------------+\n",
            "Datatypes of table Review\n",
            "+-------------+-----------+\n",
            "| Column Name | Data Type |\n",
            "+-------------+-----------+\n",
            "|  review_id  |   object  |\n",
            "|   user_id   |   object  |\n",
            "| business_id |   object  |\n",
            "|    stars    |  float64  |\n",
            "|    useful   |   int64   |\n",
            "|    funny    |   int64   |\n",
            "|     cool    |   int64   |\n",
            "|     text    |   object  |\n",
            "|     date    |   object  |\n",
            "+-------------+-----------+\n",
            "Unique datatypes in table Review\n",
            "+-----------+----------------------+\n",
            "| Data Type | Number of Occurences |\n",
            "+-----------+----------------------+\n",
            "|   object  |          5           |\n",
            "|  float64  |          1           |\n",
            "|   int64   |          3           |\n",
            "+-----------+----------------------+\n",
            "---------------------------------------------------------------------------\n",
            "Null Values for table Tip\n",
            "+------------------+---------------------------+\n",
            "|   Column Name    | Percentage of null values |\n",
            "+------------------+---------------------------+\n",
            "|     user_id      |            0.0            |\n",
            "|   business_id    |            0.0            |\n",
            "|       text       |           0.0006          |\n",
            "|       date       |            0.0            |\n",
            "| compliment_count |            0.0            |\n",
            "+------------------+---------------------------+\n",
            "Datatypes of table Tip\n",
            "+------------------+-----------+\n",
            "|   Column Name    | Data Type |\n",
            "+------------------+-----------+\n",
            "|     user_id      |   object  |\n",
            "|   business_id    |   object  |\n",
            "|       text       |   object  |\n",
            "|       date       |   object  |\n",
            "| compliment_count |   int64   |\n",
            "+------------------+-----------+\n",
            "Unique datatypes in table Tip\n",
            "+-----------+----------------------+\n",
            "| Data Type | Number of Occurences |\n",
            "+-----------+----------------------+\n",
            "|   object  |          4           |\n",
            "|   int64   |          1           |\n",
            "+-----------+----------------------+\n",
            "---------------------------------------------------------------------------\n",
            "Null Values for table User\n",
            "+--------------------+---------------------------+\n",
            "|    Column Name     | Percentage of null values |\n",
            "+--------------------+---------------------------+\n",
            "|      user_id       |            0.0            |\n",
            "|        name        |           0.0004          |\n",
            "|    review_count    |            0.0            |\n",
            "|   yelping_since    |            0.0            |\n",
            "|       useful       |            0.0            |\n",
            "|       funny        |            0.0            |\n",
            "|        cool        |            0.0            |\n",
            "|       elite        |          95.4123          |\n",
            "|      friends       |            0.0            |\n",
            "|        fans        |            0.0            |\n",
            "|   average_stars    |            0.0            |\n",
            "|   compliment_hot   |            0.0            |\n",
            "|  compliment_more   |            0.0            |\n",
            "| compliment_profile |            0.0            |\n",
            "|  compliment_cute   |            0.0            |\n",
            "|  compliment_list   |            0.0            |\n",
            "|  compliment_note   |            0.0            |\n",
            "|  compliment_plain  |            0.0            |\n",
            "|  compliment_cool   |            0.0            |\n",
            "|  compliment_funny  |            0.0            |\n",
            "| compliment_writer  |            0.0            |\n",
            "| compliment_photos  |            0.0            |\n",
            "+--------------------+---------------------------+\n",
            "Datatypes of table User\n",
            "+--------------------+-----------+\n",
            "|    Column Name     | Data Type |\n",
            "+--------------------+-----------+\n",
            "|      user_id       |   object  |\n",
            "|        name        |   object  |\n",
            "|    review_count    |   int64   |\n",
            "|   yelping_since    |   object  |\n",
            "|       useful       |   int64   |\n",
            "|       funny        |   int64   |\n",
            "|        cool        |   int64   |\n",
            "|       elite        |   object  |\n",
            "|      friends       |   object  |\n",
            "|        fans        |   int64   |\n",
            "|   average_stars    |  float64  |\n",
            "|   compliment_hot   |   int64   |\n",
            "|  compliment_more   |   int64   |\n",
            "| compliment_profile |   int64   |\n",
            "|  compliment_cute   |   int64   |\n",
            "|  compliment_list   |   int64   |\n",
            "|  compliment_note   |   int64   |\n",
            "|  compliment_plain  |   int64   |\n",
            "|  compliment_cool   |   int64   |\n",
            "|  compliment_funny  |   int64   |\n",
            "| compliment_writer  |   int64   |\n",
            "| compliment_photos  |   int64   |\n",
            "+--------------------+-----------+\n",
            "Unique datatypes in table User\n",
            "+-----------+----------------------+\n",
            "| Data Type | Number of Occurences |\n",
            "+-----------+----------------------+\n",
            "|   object  |          5           |\n",
            "|   int64   |          16          |\n",
            "|  float64  |          1           |\n",
            "+-----------+----------------------+\n",
            "---------------------------------------------------------------------------\n"
          ]
        }
      ],
      "source": [
        "for j in range(len(names)):\n",
        "    print(f'Null Values for table {names[j]}')\n",
        "    pt = PrettyTable()\n",
        "    pt.field_names = [\"Column Name\",\"Percentage of null values\"]\n",
        "    for i in range(len(dataframes[j].columns)):\n",
        "        pt.add_row([(dataframes[j].isnull().astype(int).sum()/len(dataframes[j])).index[i],round(((dataframes[j].isnull().astype(int).sum()/len(dataframes[j]))[i]*100),4)])\n",
        "    print(pt)\n",
        "    print(f'Datatypes of table {names[j]}')\n",
        "    pt = PrettyTable()\n",
        "    pt.field_names = [\"Column Name\",\"Data Type\"]\n",
        "    for i in range(len(dataframes[j].columns)):\n",
        "        pt.add_row([dataframes[j].dtypes.index[i],dataframes[j].dtypes[i]])\n",
        "    print(pt)\n",
        "    print(f'Unique datatypes in table {names[j]}')\n",
        "    temp = {}\n",
        "    for i in dataframes[j].dtypes:\n",
        "        if i in temp.keys():\n",
        "            temp[i] = temp[i] + 1\n",
        "        else:\n",
        "            temp[i] = 1\n",
        "    pt = PrettyTable()\n",
        "    pt.field_names = [\"Data Type\",\"Number of Occurences\"]\n",
        "    for i,j in temp.items():\n",
        "        pt.add_row([i,j])\n",
        "    print(pt)\n",
        "    print('---------------------------------------------------------------------------')"
      ]
    },
    {
      "cell_type": "markdown",
      "id": "8fbc9042",
      "metadata": {
        "id": "8fbc9042"
      },
      "source": [
        "### Table Business"
      ]
    },
    {
      "cell_type": "code",
      "execution_count": null,
      "id": "bbcc6e74",
      "metadata": {
        "id": "bbcc6e74"
      },
      "outputs": [],
      "source": [
        "n_items = 100"
      ]
    },
    {
      "cell_type": "code",
      "execution_count": null,
      "id": "420b6608",
      "metadata": {
        "id": "420b6608",
        "outputId": "47d8ea6a-c87f-49fe-e8db-c42db0b0cccc"
      },
      "outputs": [
        {
          "data": {
            "image/png": "[encoded data removed]",
            "text/plain": [
              "<Figure size 432x288 with 1 Axes>"
            ]
          },
          "metadata": {
            "needs_background": "light"
          },
          "output_type": "display_data"
        },
        {
          "name": "stdout",
          "output_type": "stream",
          "text": [
            "A lot of categories occurs in few rows\n",
            "Considering top 100 categories\n",
            "value of hundredth category \" Eyelash Service \": 1278\n"
          ]
        }
      ],
      "source": [
        "# one hot encoding categories column\n",
        "categories_columns={}\n",
        "def split_categories(cat):\n",
        "  row = str(cat).split(',')\n",
        "  ret_row=[]\n",
        "  for i in row:\n",
        "    if i[0]==\" \": # remove the blank space at begining of some strings\n",
        "      i = i[1:]\n",
        "    elif i[-1]==' ':\n",
        "      i=i[:-1]\n",
        "    ret_row.append(i)\n",
        "    if i not in categories_columns.keys():\n",
        "      categories_columns[i]=1\n",
        "    else:\n",
        "      categories_columns[i]+=1 \n",
        "  return ret_row\n",
        "  \n",
        "df_columns=business.categories.apply(split_categories)\n",
        "\n",
        "# sort based on number of occurence\n",
        "categories_columns=sorted(categories_columns.items(), key =lambda kv:[kv[1], kv[0]],reverse=True)\n",
        "\n",
        "dt=np.dtype('object,int')\n",
        "cat_items=np.array(categories_columns,dtype=dt)\n",
        "plt.hist(cat_items['f1'],range=(0,1000),bins=50,color=\"cyan\")\n",
        "plt.ylabel('Count')\n",
        "plt.xlabel('#occurences of category across rows')\n",
        "plt.show()\n",
        "print('A lot of categories occurs in few rows')\n",
        "print('Considering top 100 categories')\n",
        "categories_columns = cat_items['f0'][:100]\n",
        "print('value of hundredth category \"',cat_items['f0'][99],'\":',cat_items['f1'][99])# one hot encoding categories column\n",
        "categories_columns={}"
      ]
    },
    {
      "cell_type": "code",
      "execution_count": null,
      "id": "d89df382",
      "metadata": {
        "id": "d89df382"
      },
      "outputs": [],
      "source": [
        "no_cols = len(categories_columns)\n",
        "category_ohe = {}\n",
        "for idx,val in df_columns.items():\n",
        "  row = np.zeros(no_cols)\n",
        "  row=row.astype('int')\n",
        "  for i,v in  enumerate(categories_columns):\n",
        "    if v in val:\n",
        "      row[i]=int(1)\n",
        "  category_ohe[idx]=row"
      ]
    },
    {
      "cell_type": "code",
      "execution_count": null,
      "id": "d461c4d6",
      "metadata": {
        "id": "d461c4d6",
        "outputId": "f45a1928-a841-43d6-bb71-b2bedb72bbf2"
      },
      "outputs": [
        {
          "data": {
            "text/html": [
              "<div>\n",
              "<style scoped>\n",
              "    .dataframe tbody tr th:only-of-type {\n",
              "        vertical-align: middle;\n",
              "    }\n",
              "\n",
              "    .dataframe tbody tr th {\n",
              "        vertical-align: top;\n",
              "    }\n",
              "\n",
              "    .dataframe thead th {\n",
              "        text-align: right;\n",
              "    }\n",
              "</style>\n",
              "<table border=\"1\" class=\"dataframe\">\n",
              "  <thead>\n",
              "    <tr style=\"text-align: right;\">\n",
              "      <th></th>\n",
              "      <th>Restaurants</th>\n",
              "      <th>Food</th>\n",
              "      <th>Shopping</th>\n",
              "      <th>Home Services</th>\n",
              "      <th>Beauty &amp; Spas</th>\n",
              "      <th>Nightlife</th>\n",
              "      <th>Health &amp; Medical</th>\n",
              "      <th>Local Services</th>\n",
              "      <th>Bars</th>\n",
              "      <th>Automotive</th>\n",
              "      <th>...</th>\n",
              "      <th>Financial Services</th>\n",
              "      <th>Trainers</th>\n",
              "      <th>Hair Stylists</th>\n",
              "      <th>Arts &amp; Crafts</th>\n",
              "      <th>Department Stores</th>\n",
              "      <th>Electronics</th>\n",
              "      <th>Veterinarians</th>\n",
              "      <th>Massage Therapy</th>\n",
              "      <th>Pet Sitting</th>\n",
              "      <th>Eyelash Service</th>\n",
              "    </tr>\n",
              "  </thead>\n",
              "  <tbody>\n",
              "    <tr>\n",
              "      <th>0</th>\n",
              "      <td>0</td>\n",
              "      <td>0</td>\n",
              "      <td>0</td>\n",
              "      <td>0</td>\n",
              "      <td>0</td>\n",
              "      <td>0</td>\n",
              "      <td>1</td>\n",
              "      <td>0</td>\n",
              "      <td>0</td>\n",
              "      <td>0</td>\n",
              "      <td>...</td>\n",
              "      <td>0</td>\n",
              "      <td>0</td>\n",
              "      <td>0</td>\n",
              "      <td>0</td>\n",
              "      <td>0</td>\n",
              "      <td>0</td>\n",
              "      <td>0</td>\n",
              "      <td>0</td>\n",
              "      <td>0</td>\n",
              "      <td>0</td>\n",
              "    </tr>\n",
              "    <tr>\n",
              "      <th>1</th>\n",
              "      <td>0</td>\n",
              "      <td>0</td>\n",
              "      <td>0</td>\n",
              "      <td>0</td>\n",
              "      <td>0</td>\n",
              "      <td>0</td>\n",
              "      <td>0</td>\n",
              "      <td>1</td>\n",
              "      <td>0</td>\n",
              "      <td>0</td>\n",
              "      <td>...</td>\n",
              "      <td>0</td>\n",
              "      <td>0</td>\n",
              "      <td>0</td>\n",
              "      <td>0</td>\n",
              "      <td>0</td>\n",
              "      <td>0</td>\n",
              "      <td>0</td>\n",
              "      <td>0</td>\n",
              "      <td>0</td>\n",
              "      <td>0</td>\n",
              "    </tr>\n",
              "    <tr>\n",
              "      <th>2</th>\n",
              "      <td>0</td>\n",
              "      <td>0</td>\n",
              "      <td>1</td>\n",
              "      <td>0</td>\n",
              "      <td>0</td>\n",
              "      <td>0</td>\n",
              "      <td>0</td>\n",
              "      <td>0</td>\n",
              "      <td>0</td>\n",
              "      <td>0</td>\n",
              "      <td>...</td>\n",
              "      <td>0</td>\n",
              "      <td>0</td>\n",
              "      <td>0</td>\n",
              "      <td>0</td>\n",
              "      <td>1</td>\n",
              "      <td>1</td>\n",
              "      <td>0</td>\n",
              "      <td>0</td>\n",
              "      <td>0</td>\n",
              "      <td>0</td>\n",
              "    </tr>\n",
              "    <tr>\n",
              "      <th>3</th>\n",
              "      <td>1</td>\n",
              "      <td>1</td>\n",
              "      <td>0</td>\n",
              "      <td>0</td>\n",
              "      <td>0</td>\n",
              "      <td>0</td>\n",
              "      <td>0</td>\n",
              "      <td>0</td>\n",
              "      <td>0</td>\n",
              "      <td>0</td>\n",
              "      <td>...</td>\n",
              "      <td>0</td>\n",
              "      <td>0</td>\n",
              "      <td>0</td>\n",
              "      <td>0</td>\n",
              "      <td>0</td>\n",
              "      <td>0</td>\n",
              "      <td>0</td>\n",
              "      <td>0</td>\n",
              "      <td>0</td>\n",
              "      <td>0</td>\n",
              "    </tr>\n",
              "    <tr>\n",
              "      <th>4</th>\n",
              "      <td>0</td>\n",
              "      <td>1</td>\n",
              "      <td>0</td>\n",
              "      <td>0</td>\n",
              "      <td>0</td>\n",
              "      <td>0</td>\n",
              "      <td>0</td>\n",
              "      <td>0</td>\n",
              "      <td>0</td>\n",
              "      <td>0</td>\n",
              "      <td>...</td>\n",
              "      <td>0</td>\n",
              "      <td>0</td>\n",
              "      <td>0</td>\n",
              "      <td>0</td>\n",
              "      <td>0</td>\n",
              "      <td>0</td>\n",
              "      <td>0</td>\n",
              "      <td>0</td>\n",
              "      <td>0</td>\n",
              "      <td>0</td>\n",
              "    </tr>\n",
              "  </tbody>\n",
              "</table>\n",
              "<p>5 rows × 100 columns</p>\n",
              "</div>"
            ],
            "text/plain": [
              "   Restaurants  Food  Shopping  Home Services  Beauty & Spas  Nightlife  \\\n",
              "0            0     0         0              0              0          0   \n",
              "1            0     0         0              0              0          0   \n",
              "2            0     0         1              0              0          0   \n",
              "3            1     1         0              0              0          0   \n",
              "4            0     1         0              0              0          0   \n",
              "\n",
              "   Health & Medical  Local Services  Bars  Automotive  ...  \\\n",
              "0                 1               0     0           0  ...   \n",
              "1                 0               1     0           0  ...   \n",
              "2                 0               0     0           0  ...   \n",
              "3                 0               0     0           0  ...   \n",
              "4                 0               0     0           0  ...   \n",
              "\n",
              "   Financial Services  Trainers  Hair Stylists  Arts & Crafts  \\\n",
              "0                   0         0              0              0   \n",
              "1                   0         0              0              0   \n",
              "2                   0         0              0              0   \n",
              "3                   0         0              0              0   \n",
              "4                   0         0              0              0   \n",
              "\n",
              "   Department Stores  Electronics  Veterinarians  Massage Therapy  \\\n",
              "0                  0            0              0                0   \n",
              "1                  0            0              0                0   \n",
              "2                  1            1              0                0   \n",
              "3                  0            0              0                0   \n",
              "4                  0            0              0                0   \n",
              "\n",
              "   Pet Sitting  Eyelash Service  \n",
              "0            0                0  \n",
              "1            0                0  \n",
              "2            0                0  \n",
              "3            0                0  \n",
              "4            0                0  \n",
              "\n",
              "[5 rows x 100 columns]"
            ]
          },
          "execution_count": 24,
          "metadata": {},
          "output_type": "execute_result"
        }
      ],
      "source": [
        "cols_ohe=pd.DataFrame(category_ohe.values(),columns=categories_columns)\n",
        "cols_ohe.head()"
      ]
    },
    {
      "cell_type": "code",
      "execution_count": null,
      "id": "c48e7b1c",
      "metadata": {
        "id": "c48e7b1c",
        "outputId": "e9130538-93ea-4429-f894-cc6eb13fcde0"
      },
      "outputs": [
        {
          "name": "stdout",
          "output_type": "stream",
          "text": [
            "Unique states in df: 27\n"
          ]
        }
      ],
      "source": [
        "# One hot encode State column\n",
        "print(\"Unique states in df:\",len(np.unique(business.state.values)))\n",
        "df_state_ohe =pd.get_dummies(business[['state']])"
      ]
    },
    {
      "cell_type": "code",
      "execution_count": null,
      "id": "c556205a",
      "metadata": {
        "id": "c556205a"
      },
      "outputs": [],
      "source": [
        "def get_attributes(s,cat_columns,index=None):\n",
        "  field_dict={}\n",
        "  zero_text = ['None','False','none','false','no']\n",
        "  pars_table={ord('\\''):None,ord('\"'):None,ord('{'):ord(' '),ord('}'):None}\n",
        "  # return None if already none\n",
        "  if type(s) == float or type(s)== np.nan:\n",
        "    return None\n",
        "\n",
        "  # clean the  entry  \n",
        "  s=s.replace('\"u\\'','\\'').replace(' u','').replace('{u','{')\n",
        "  s=s.translate(pars_table)\n",
        "  s=s.replace(' BusinessParking: ','').replace(' ','').replace('Ambience:','' )\n",
        "  s=s.replace('GoodForMeal:','').replace('Music:','').replace('BestNights:','').replace('DietaryRestrictions:','')\n",
        "  \n",
        "  att=s.split(',') # split each attribute\n",
        "\n",
        "  # get attribute values\n",
        "  for field in att:\n",
        "    if field =='None'or field=='':\n",
        "      continue\n",
        "    f_split=field.split(':')\n",
        "    attri = f_split[0]\n",
        "    val = f_split[1]   \n",
        "    if val in zero_text:\n",
        "      val = 0     \n",
        "    elif val in ['True']:\n",
        "      val = 1\n",
        "    elif attri in cat_columns:\n",
        "      val = str(val)\n",
        "      field_dict[attri]=val\n",
        "      continue\n",
        "\n",
        "    try:\n",
        "      val=int(val)\n",
        "    except:\n",
        "      print('Unknown type')\n",
        "      print(val,index)\n",
        "    # update dict\n",
        "\n",
        "    field_dict[attri]=val\n",
        "\n",
        "  return field_dict"
      ]
    },
    {
      "cell_type": "code",
      "execution_count": null,
      "id": "5ecb29e8",
      "metadata": {
        "id": "5ecb29e8"
      },
      "outputs": [],
      "source": [
        "unique_attributes=[]\n",
        "row_attr =[]\n",
        "cat_columns=['RestaurantsAttire','Alcohol','NoiseLevel','HairSpecializesIn','WiFi','BYOBCorkage','Smoking','AgesAllowed']\n",
        "for index, row in business[['attributes']].iterrows():\n",
        "  attr_dict=get_attributes(row['attributes'],cat_columns=cat_columns,index=index)\n",
        "  if attr_dict == None:\n",
        "    row_attr.append({})\n",
        "    continue\n",
        "  for k in list(attr_dict.keys()):\n",
        "    if k not in unique_attributes:\n",
        "      unique_attributes.append(k)\n",
        "  row_attr.append(attr_dict)"
      ]
    },
    {
      "cell_type": "code",
      "execution_count": null,
      "id": "68286670",
      "metadata": {
        "id": "68286670"
      },
      "outputs": [],
      "source": [
        "# create a dataframe from row attributes\n",
        "df_attributes=pd.DataFrame(row_attr,columns=unique_attributes)\n",
        "df_attributes=df_attributes.fillna(0)"
      ]
    },
    {
      "cell_type": "code",
      "execution_count": null,
      "id": "77e074af",
      "metadata": {
        "id": "77e074af"
      },
      "outputs": [],
      "source": [
        "# one hot encode categorical columns\n",
        "df_attr_cat=pd.get_dummies(df_attributes[cat_columns])\n",
        "df_attributes.drop(cat_columns,axis=1,inplace=True)\n",
        "df_attributes=df_attributes.astype('int32')\n",
        "#numerical_cols=df_attributes.columns"
      ]
    },
    {
      "cell_type": "code",
      "execution_count": null,
      "id": "ad2e1e52",
      "metadata": {
        "id": "ad2e1e52",
        "outputId": "eaef8915-cce8-4390-d15d-040fd7a352c3"
      },
      "outputs": [
        {
          "data": {
            "text/html": [
              "<div>\n",
              "<style scoped>\n",
              "    .dataframe tbody tr th:only-of-type {\n",
              "        vertical-align: middle;\n",
              "    }\n",
              "\n",
              "    .dataframe tbody tr th {\n",
              "        vertical-align: top;\n",
              "    }\n",
              "\n",
              "    .dataframe thead th {\n",
              "        text-align: right;\n",
              "    }\n",
              "</style>\n",
              "<table border=\"1\" class=\"dataframe\">\n",
              "  <thead>\n",
              "    <tr style=\"text-align: right;\">\n",
              "      <th></th>\n",
              "      <th>ByAppointmentOnly</th>\n",
              "      <th>BusinessAcceptsCreditCards</th>\n",
              "      <th>BikeParking</th>\n",
              "      <th>RestaurantsPriceRange2</th>\n",
              "      <th>CoatCheck</th>\n",
              "      <th>RestaurantsTakeOut</th>\n",
              "      <th>RestaurantsDelivery</th>\n",
              "      <th>Caters</th>\n",
              "      <th>garage</th>\n",
              "      <th>street</th>\n",
              "      <th>...</th>\n",
              "      <th>BYOBCorkage_0</th>\n",
              "      <th>BYOBCorkage_yes_corkage</th>\n",
              "      <th>BYOBCorkage_yes_free</th>\n",
              "      <th>Smoking_0</th>\n",
              "      <th>Smoking_outdoor</th>\n",
              "      <th>Smoking_yes</th>\n",
              "      <th>AgesAllowed_0</th>\n",
              "      <th>AgesAllowed_18plus</th>\n",
              "      <th>AgesAllowed_21plus</th>\n",
              "      <th>AgesAllowed_allages</th>\n",
              "    </tr>\n",
              "  </thead>\n",
              "  <tbody>\n",
              "    <tr>\n",
              "      <th>0</th>\n",
              "      <td>1</td>\n",
              "      <td>0</td>\n",
              "      <td>0</td>\n",
              "      <td>0</td>\n",
              "      <td>0</td>\n",
              "      <td>0</td>\n",
              "      <td>0</td>\n",
              "      <td>0</td>\n",
              "      <td>0</td>\n",
              "      <td>0</td>\n",
              "      <td>...</td>\n",
              "      <td>1</td>\n",
              "      <td>0</td>\n",
              "      <td>0</td>\n",
              "      <td>1</td>\n",
              "      <td>0</td>\n",
              "      <td>0</td>\n",
              "      <td>1</td>\n",
              "      <td>0</td>\n",
              "      <td>0</td>\n",
              "      <td>0</td>\n",
              "    </tr>\n",
              "    <tr>\n",
              "      <th>1</th>\n",
              "      <td>0</td>\n",
              "      <td>1</td>\n",
              "      <td>0</td>\n",
              "      <td>0</td>\n",
              "      <td>0</td>\n",
              "      <td>0</td>\n",
              "      <td>0</td>\n",
              "      <td>0</td>\n",
              "      <td>0</td>\n",
              "      <td>0</td>\n",
              "      <td>...</td>\n",
              "      <td>1</td>\n",
              "      <td>0</td>\n",
              "      <td>0</td>\n",
              "      <td>1</td>\n",
              "      <td>0</td>\n",
              "      <td>0</td>\n",
              "      <td>1</td>\n",
              "      <td>0</td>\n",
              "      <td>0</td>\n",
              "      <td>0</td>\n",
              "    </tr>\n",
              "    <tr>\n",
              "      <th>2</th>\n",
              "      <td>0</td>\n",
              "      <td>1</td>\n",
              "      <td>1</td>\n",
              "      <td>2</td>\n",
              "      <td>0</td>\n",
              "      <td>0</td>\n",
              "      <td>0</td>\n",
              "      <td>0</td>\n",
              "      <td>0</td>\n",
              "      <td>0</td>\n",
              "      <td>...</td>\n",
              "      <td>1</td>\n",
              "      <td>0</td>\n",
              "      <td>0</td>\n",
              "      <td>1</td>\n",
              "      <td>0</td>\n",
              "      <td>0</td>\n",
              "      <td>1</td>\n",
              "      <td>0</td>\n",
              "      <td>0</td>\n",
              "      <td>0</td>\n",
              "    </tr>\n",
              "    <tr>\n",
              "      <th>3</th>\n",
              "      <td>0</td>\n",
              "      <td>0</td>\n",
              "      <td>1</td>\n",
              "      <td>1</td>\n",
              "      <td>0</td>\n",
              "      <td>1</td>\n",
              "      <td>0</td>\n",
              "      <td>1</td>\n",
              "      <td>0</td>\n",
              "      <td>1</td>\n",
              "      <td>...</td>\n",
              "      <td>1</td>\n",
              "      <td>0</td>\n",
              "      <td>0</td>\n",
              "      <td>1</td>\n",
              "      <td>0</td>\n",
              "      <td>0</td>\n",
              "      <td>1</td>\n",
              "      <td>0</td>\n",
              "      <td>0</td>\n",
              "      <td>0</td>\n",
              "    </tr>\n",
              "    <tr>\n",
              "      <th>4</th>\n",
              "      <td>0</td>\n",
              "      <td>1</td>\n",
              "      <td>1</td>\n",
              "      <td>0</td>\n",
              "      <td>0</td>\n",
              "      <td>1</td>\n",
              "      <td>0</td>\n",
              "      <td>0</td>\n",
              "      <td>0</td>\n",
              "      <td>0</td>\n",
              "      <td>...</td>\n",
              "      <td>1</td>\n",
              "      <td>0</td>\n",
              "      <td>0</td>\n",
              "      <td>1</td>\n",
              "      <td>0</td>\n",
              "      <td>0</td>\n",
              "      <td>1</td>\n",
              "      <td>0</td>\n",
              "      <td>0</td>\n",
              "      <td>0</td>\n",
              "    </tr>\n",
              "  </tbody>\n",
              "</table>\n",
              "<p>5 rows × 104 columns</p>\n",
              "</div>"
            ],
            "text/plain": [
              "   ByAppointmentOnly  BusinessAcceptsCreditCards  BikeParking  \\\n",
              "0                  1                           0            0   \n",
              "1                  0                           1            0   \n",
              "2                  0                           1            1   \n",
              "3                  0                           0            1   \n",
              "4                  0                           1            1   \n",
              "\n",
              "   RestaurantsPriceRange2  CoatCheck  RestaurantsTakeOut  RestaurantsDelivery  \\\n",
              "0                       0          0                   0                    0   \n",
              "1                       0          0                   0                    0   \n",
              "2                       2          0                   0                    0   \n",
              "3                       1          0                   1                    0   \n",
              "4                       0          0                   1                    0   \n",
              "\n",
              "   Caters  garage  street  ...  BYOBCorkage_0  BYOBCorkage_yes_corkage  \\\n",
              "0       0       0       0  ...              1                        0   \n",
              "1       0       0       0  ...              1                        0   \n",
              "2       0       0       0  ...              1                        0   \n",
              "3       1       0       1  ...              1                        0   \n",
              "4       0       0       0  ...              1                        0   \n",
              "\n",
              "   BYOBCorkage_yes_free  Smoking_0  Smoking_outdoor  Smoking_yes  \\\n",
              "0                     0          1                0            0   \n",
              "1                     0          1                0            0   \n",
              "2                     0          1                0            0   \n",
              "3                     0          1                0            0   \n",
              "4                     0          1                0            0   \n",
              "\n",
              "   AgesAllowed_0  AgesAllowed_18plus  AgesAllowed_21plus  AgesAllowed_allages  \n",
              "0              1                   0                   0                    0  \n",
              "1              1                   0                   0                    0  \n",
              "2              1                   0                   0                    0  \n",
              "3              1                   0                   0                    0  \n",
              "4              1                   0                   0                    0  \n",
              "\n",
              "[5 rows x 104 columns]"
            ]
          },
          "execution_count": 31,
          "metadata": {},
          "output_type": "execute_result"
        }
      ],
      "source": [
        "df_attributes=pd.concat([df_attributes,df_attr_cat],axis=1)\n",
        "df_attributes.head()"
      ]
    },
    {
      "cell_type": "code",
      "execution_count": null,
      "id": "59e71e71",
      "metadata": {
        "id": "59e71e71"
      },
      "outputs": [],
      "source": [
        "business.drop(['attributes','categories','state'],axis=1,inplace=True)"
      ]
    },
    {
      "cell_type": "code",
      "execution_count": null,
      "id": "bbaed94f",
      "metadata": {
        "id": "bbaed94f"
      },
      "outputs": [],
      "source": [
        "df_final_buisness = pd.concat([business,df_attributes,cols_ohe,df_state_ohe],axis=1)"
      ]
    },
    {
      "cell_type": "code",
      "execution_count": null,
      "id": "8713767d",
      "metadata": {
        "id": "8713767d"
      },
      "outputs": [],
      "source": [
        "df_final_buisness.to_csv('df_pp_buisness.csv',index=False)"
      ]
    },
    {
      "cell_type": "markdown",
      "id": "dcc0e75e",
      "metadata": {
        "id": "dcc0e75e"
      },
      "source": [
        "### Table User"
      ]
    },
    {
      "cell_type": "code",
      "execution_count": null,
      "id": "a3eadfd6",
      "metadata": {
        "id": "a3eadfd6"
      },
      "outputs": [],
      "source": [
        "df_users=df_users[df_users['review_count']>2]"
      ]
    },
    {
      "cell_type": "markdown",
      "id": "bf097c7d",
      "metadata": {
        "id": "bf097c7d"
      },
      "source": [
        "### Table Review"
      ]
    },
    {
      "cell_type": "code",
      "execution_count": null,
      "id": "212408e3",
      "metadata": {
        "id": "212408e3"
      },
      "outputs": [],
      "source": [
        "df_review['stars']=df_review['stars'].astype('int32')"
      ]
    },
    {
      "cell_type": "code",
      "execution_count": null,
      "id": "6ac5ed2f",
      "metadata": {
        "id": "6ac5ed2f",
        "outputId": "b9628998-2089-4ff6-a1ed-9cfba5895992"
      },
      "outputs": [
        {
          "data": {
            "image/png": "[encoded data removed]",
            "text/plain": [
              "<Waffle size 720x720 with 1 Axes>"
            ]
          },
          "metadata": {
            "needs_background": "light"
          },
          "output_type": "display_data"
        }
      ],
      "source": [
        "plt.rcParams[\"figure.figsize\"] = [10, 10]\n",
        "plt.rcParams[\"figure.autolayout\"] = True\n",
        "\n",
        "stars=df_review.groupby('stars')['stars'].count()\n",
        "star_count=[(i//10000) for i in stars.values]\n",
        "label=[str(i) for i in list(stars.index)]\n",
        "\n",
        "plt.figure(FigureClass=Waffle,rows=15,values=star_count,labels=label)\n",
        "plt.title('Porpotion of different Stars in ten thousands') \n",
        "plt.show()"
      ]
    },
    {
      "cell_type": "code",
      "execution_count": null,
      "id": "4427713e",
      "metadata": {
        "id": "4427713e",
        "outputId": "63883a2d-cba3-48cd-d5f1-4b804d414fa2"
      },
      "outputs": [
        {
          "data": {
            "image/png": "[encoded data removed]",
            "text/plain": [
              "<Figure size 1152x576 with 2 Axes>"
            ]
          },
          "metadata": {
            "needs_background": "light"
          },
          "output_type": "display_data"
        }
      ],
      "source": [
        "fig,ax=plt.subplots(1,2,figsize=(16,8))\n",
        "ax[0].hist(df_users.review_count,bins=50,range=(0,500))\n",
        "ax[0].set_ylabel('Count')\n",
        "ax[0].set_xlabel('Review count of users')\n",
        "ax[1].boxplot(df_users.review_count,vert=False)\n",
        "plt.show()"
      ]
    },
    {
      "cell_type": "code",
      "execution_count": null,
      "id": "25154b6b",
      "metadata": {
        "id": "25154b6b",
        "outputId": "dc1baa38-2cce-41b8-a4c4-88f23b7e2d90"
      },
      "outputs": [
        {
          "name": "stdout",
          "output_type": "stream",
          "text": [
            "considering top 100 most rated items\n"
          ]
        }
      ],
      "source": [
        "most_rated_items=df_review.groupby(['business_id'])['business_id'].count().sort_values(ascending=False)\n",
        "print(f'considering top {n_items} most rated items')"
      ]
    },
    {
      "cell_type": "code",
      "execution_count": null,
      "id": "1e4b269a",
      "metadata": {
        "id": "1e4b269a"
      },
      "outputs": [],
      "source": [
        "most_rated_items=most_rated_items.iloc[0:n_items].index"
      ]
    },
    {
      "cell_type": "code",
      "execution_count": null,
      "id": "dedcdc6d",
      "metadata": {
        "id": "dedcdc6d"
      },
      "outputs": [],
      "source": [
        "# create a df which contains top n items and respective user that reviewed along with review\n",
        "user_item=df_review[df_review['business_id'].isin(most_rated_items)][['user_id','business_id','stars']]\n",
        "user_item.reset_index(drop=True,inplace=True)\n",
        "stars_top_rated_items = user_item.groupby('business_id').mean('stars')"
      ]
    },
    {
      "cell_type": "code",
      "execution_count": null,
      "id": "d32d7dd0",
      "metadata": {
        "id": "d32d7dd0",
        "outputId": "993e3004-4363-42c6-f488-27ac3f28070f"
      },
      "outputs": [
        {
          "name": "stdout",
          "output_type": "stream",
          "text": [
            "No of unique items: 100\n"
          ]
        }
      ],
      "source": [
        "unique_items=user_item['business_id'].unique()\n",
        "print('No of unique items:',len(unique_items))"
      ]
    },
    {
      "cell_type": "code",
      "execution_count": null,
      "id": "d66ee175",
      "metadata": {
        "id": "d66ee175"
      },
      "outputs": [],
      "source": [
        "unique_user = user_item['user_id'].unique()\n",
        "null_ui_mat={}\n",
        "for i in unique_user:\n",
        "  r = list(np.zeros(len(unique_items)))\n",
        "  null_ui_mat[i]=r"
      ]
    },
    {
      "cell_type": "code",
      "execution_count": null,
      "id": "07427ee3",
      "metadata": {
        "id": "07427ee3"
      },
      "outputs": [],
      "source": [
        "UI_matrix = pd.DataFrame.from_dict(null_ui_mat,columns=unique_items,orient='index').astype('int32')"
      ]
    },
    {
      "cell_type": "code",
      "execution_count": null,
      "id": "7be30036",
      "metadata": {
        "id": "7be30036",
        "outputId": "604ee142-43ec-4ae8-942d-66448bf5be9a"
      },
      "outputs": [
        {
          "data": {
            "text/html": [
              "<div>\n",
              "<style scoped>\n",
              "    .dataframe tbody tr th:only-of-type {\n",
              "        vertical-align: middle;\n",
              "    }\n",
              "\n",
              "    .dataframe tbody tr th {\n",
              "        vertical-align: top;\n",
              "    }\n",
              "\n",
              "    .dataframe thead th {\n",
              "        text-align: right;\n",
              "    }\n",
              "</style>\n",
              "<table border=\"1\" class=\"dataframe\">\n",
              "  <thead>\n",
              "    <tr style=\"text-align: right;\">\n",
              "      <th></th>\n",
              "      <th>PY9GRfzr4nTZeINf346QOw</th>\n",
              "      <th>W4ZEKkva9HpAdZG88juwyQ</th>\n",
              "      <th>SZU9c8V2GuREDN5KgyHFJw</th>\n",
              "      <th>Zi-F-YvyVOK0k5QD7lrLOg</th>\n",
              "      <th>GBTPC53ZrG1ZBY3DT8Mbcw</th>\n",
              "      <th>pSmOH4a3HNNpYM82J5ycLA</th>\n",
              "      <th>8uF-bhJFgT4Tn6DTb27viA</th>\n",
              "      <th>UCMSWPqzXjd7QHq7v8PJjQ</th>\n",
              "      <th>vN6v8m4DO45Z4pp8yxxF_w</th>\n",
              "      <th>g04aAvgol7IW8buqSbT4xA</th>\n",
              "      <th>...</th>\n",
              "      <th>oBNrLz4EDhiscSlbOl8uAw</th>\n",
              "      <th>skY6r8WAkYqpV7_TxNm23w</th>\n",
              "      <th>iRIHK8-EwpeffwvoO4nzIA</th>\n",
              "      <th>OdIBX09glfXNVSyd0RnIeg</th>\n",
              "      <th>qQO7ErS_RAN4Vs1uX0L55Q</th>\n",
              "      <th>ytynqOUb3hjKeJfRj5Tshw</th>\n",
              "      <th>0RuvlgTnKFbX3IK0ZOOocA</th>\n",
              "      <th>1b5mnK8bMnnju_cvU65GqQ</th>\n",
              "      <th>VAeEXLbEcI9Emt9KGYq9aA</th>\n",
              "      <th>QHWYlmVbLC3K6eglWoHVvA</th>\n",
              "    </tr>\n",
              "  </thead>\n",
              "  <tbody>\n",
              "    <tr>\n",
              "      <th>qEEk0PuoH1dVa619t8fgpw</th>\n",
              "      <td>0</td>\n",
              "      <td>0</td>\n",
              "      <td>0</td>\n",
              "      <td>0</td>\n",
              "      <td>0</td>\n",
              "      <td>0</td>\n",
              "      <td>0</td>\n",
              "      <td>0</td>\n",
              "      <td>0</td>\n",
              "      <td>0</td>\n",
              "      <td>...</td>\n",
              "      <td>0</td>\n",
              "      <td>0</td>\n",
              "      <td>0</td>\n",
              "      <td>0</td>\n",
              "      <td>0</td>\n",
              "      <td>0</td>\n",
              "      <td>0</td>\n",
              "      <td>0</td>\n",
              "      <td>0</td>\n",
              "      <td>0</td>\n",
              "    </tr>\n",
              "    <tr>\n",
              "      <th>EBa-0-6AKoy6jziNexDJtg</th>\n",
              "      <td>0</td>\n",
              "      <td>0</td>\n",
              "      <td>0</td>\n",
              "      <td>0</td>\n",
              "      <td>0</td>\n",
              "      <td>0</td>\n",
              "      <td>0</td>\n",
              "      <td>0</td>\n",
              "      <td>0</td>\n",
              "      <td>0</td>\n",
              "      <td>...</td>\n",
              "      <td>0</td>\n",
              "      <td>0</td>\n",
              "      <td>0</td>\n",
              "      <td>0</td>\n",
              "      <td>0</td>\n",
              "      <td>0</td>\n",
              "      <td>0</td>\n",
              "      <td>0</td>\n",
              "      <td>0</td>\n",
              "      <td>0</td>\n",
              "    </tr>\n",
              "    <tr>\n",
              "      <th>JYYYKt6TdVA4ng9lLcXt_g</th>\n",
              "      <td>0</td>\n",
              "      <td>0</td>\n",
              "      <td>0</td>\n",
              "      <td>0</td>\n",
              "      <td>0</td>\n",
              "      <td>0</td>\n",
              "      <td>0</td>\n",
              "      <td>0</td>\n",
              "      <td>0</td>\n",
              "      <td>0</td>\n",
              "      <td>...</td>\n",
              "      <td>0</td>\n",
              "      <td>0</td>\n",
              "      <td>0</td>\n",
              "      <td>0</td>\n",
              "      <td>0</td>\n",
              "      <td>0</td>\n",
              "      <td>0</td>\n",
              "      <td>0</td>\n",
              "      <td>0</td>\n",
              "      <td>0</td>\n",
              "    </tr>\n",
              "    <tr>\n",
              "      <th>7P9w2PrP4ZcJyDFwch51Ig</th>\n",
              "      <td>0</td>\n",
              "      <td>0</td>\n",
              "      <td>0</td>\n",
              "      <td>0</td>\n",
              "      <td>0</td>\n",
              "      <td>0</td>\n",
              "      <td>0</td>\n",
              "      <td>0</td>\n",
              "      <td>0</td>\n",
              "      <td>0</td>\n",
              "      <td>...</td>\n",
              "      <td>0</td>\n",
              "      <td>0</td>\n",
              "      <td>0</td>\n",
              "      <td>0</td>\n",
              "      <td>0</td>\n",
              "      <td>0</td>\n",
              "      <td>0</td>\n",
              "      <td>0</td>\n",
              "      <td>0</td>\n",
              "      <td>0</td>\n",
              "    </tr>\n",
              "    <tr>\n",
              "      <th>pitYOVSsF8R1gWG1G0qxsA</th>\n",
              "      <td>0</td>\n",
              "      <td>0</td>\n",
              "      <td>0</td>\n",
              "      <td>0</td>\n",
              "      <td>0</td>\n",
              "      <td>0</td>\n",
              "      <td>0</td>\n",
              "      <td>0</td>\n",
              "      <td>0</td>\n",
              "      <td>0</td>\n",
              "      <td>...</td>\n",
              "      <td>0</td>\n",
              "      <td>0</td>\n",
              "      <td>0</td>\n",
              "      <td>0</td>\n",
              "      <td>0</td>\n",
              "      <td>0</td>\n",
              "      <td>0</td>\n",
              "      <td>0</td>\n",
              "      <td>0</td>\n",
              "      <td>0</td>\n",
              "    </tr>\n",
              "  </tbody>\n",
              "</table>\n",
              "<p>5 rows × 100 columns</p>\n",
              "</div>"
            ],
            "text/plain": [
              "                        PY9GRfzr4nTZeINf346QOw  W4ZEKkva9HpAdZG88juwyQ  \\\n",
              "qEEk0PuoH1dVa619t8fgpw                       0                       0   \n",
              "EBa-0-6AKoy6jziNexDJtg                       0                       0   \n",
              "JYYYKt6TdVA4ng9lLcXt_g                       0                       0   \n",
              "7P9w2PrP4ZcJyDFwch51Ig                       0                       0   \n",
              "pitYOVSsF8R1gWG1G0qxsA                       0                       0   \n",
              "\n",
              "                        SZU9c8V2GuREDN5KgyHFJw  Zi-F-YvyVOK0k5QD7lrLOg  \\\n",
              "qEEk0PuoH1dVa619t8fgpw                       0                       0   \n",
              "EBa-0-6AKoy6jziNexDJtg                       0                       0   \n",
              "JYYYKt6TdVA4ng9lLcXt_g                       0                       0   \n",
              "7P9w2PrP4ZcJyDFwch51Ig                       0                       0   \n",
              "pitYOVSsF8R1gWG1G0qxsA                       0                       0   \n",
              "\n",
              "                        GBTPC53ZrG1ZBY3DT8Mbcw  pSmOH4a3HNNpYM82J5ycLA  \\\n",
              "qEEk0PuoH1dVa619t8fgpw                       0                       0   \n",
              "EBa-0-6AKoy6jziNexDJtg                       0                       0   \n",
              "JYYYKt6TdVA4ng9lLcXt_g                       0                       0   \n",
              "7P9w2PrP4ZcJyDFwch51Ig                       0                       0   \n",
              "pitYOVSsF8R1gWG1G0qxsA                       0                       0   \n",
              "\n",
              "                        8uF-bhJFgT4Tn6DTb27viA  UCMSWPqzXjd7QHq7v8PJjQ  \\\n",
              "qEEk0PuoH1dVa619t8fgpw                       0                       0   \n",
              "EBa-0-6AKoy6jziNexDJtg                       0                       0   \n",
              "JYYYKt6TdVA4ng9lLcXt_g                       0                       0   \n",
              "7P9w2PrP4ZcJyDFwch51Ig                       0                       0   \n",
              "pitYOVSsF8R1gWG1G0qxsA                       0                       0   \n",
              "\n",
              "                        vN6v8m4DO45Z4pp8yxxF_w  g04aAvgol7IW8buqSbT4xA  ...  \\\n",
              "qEEk0PuoH1dVa619t8fgpw                       0                       0  ...   \n",
              "EBa-0-6AKoy6jziNexDJtg                       0                       0  ...   \n",
              "JYYYKt6TdVA4ng9lLcXt_g                       0                       0  ...   \n",
              "7P9w2PrP4ZcJyDFwch51Ig                       0                       0  ...   \n",
              "pitYOVSsF8R1gWG1G0qxsA                       0                       0  ...   \n",
              "\n",
              "                        oBNrLz4EDhiscSlbOl8uAw  skY6r8WAkYqpV7_TxNm23w  \\\n",
              "qEEk0PuoH1dVa619t8fgpw                       0                       0   \n",
              "EBa-0-6AKoy6jziNexDJtg                       0                       0   \n",
              "JYYYKt6TdVA4ng9lLcXt_g                       0                       0   \n",
              "7P9w2PrP4ZcJyDFwch51Ig                       0                       0   \n",
              "pitYOVSsF8R1gWG1G0qxsA                       0                       0   \n",
              "\n",
              "                        iRIHK8-EwpeffwvoO4nzIA  OdIBX09glfXNVSyd0RnIeg  \\\n",
              "qEEk0PuoH1dVa619t8fgpw                       0                       0   \n",
              "EBa-0-6AKoy6jziNexDJtg                       0                       0   \n",
              "JYYYKt6TdVA4ng9lLcXt_g                       0                       0   \n",
              "7P9w2PrP4ZcJyDFwch51Ig                       0                       0   \n",
              "pitYOVSsF8R1gWG1G0qxsA                       0                       0   \n",
              "\n",
              "                        qQO7ErS_RAN4Vs1uX0L55Q  ytynqOUb3hjKeJfRj5Tshw  \\\n",
              "qEEk0PuoH1dVa619t8fgpw                       0                       0   \n",
              "EBa-0-6AKoy6jziNexDJtg                       0                       0   \n",
              "JYYYKt6TdVA4ng9lLcXt_g                       0                       0   \n",
              "7P9w2PrP4ZcJyDFwch51Ig                       0                       0   \n",
              "pitYOVSsF8R1gWG1G0qxsA                       0                       0   \n",
              "\n",
              "                        0RuvlgTnKFbX3IK0ZOOocA  1b5mnK8bMnnju_cvU65GqQ  \\\n",
              "qEEk0PuoH1dVa619t8fgpw                       0                       0   \n",
              "EBa-0-6AKoy6jziNexDJtg                       0                       0   \n",
              "JYYYKt6TdVA4ng9lLcXt_g                       0                       0   \n",
              "7P9w2PrP4ZcJyDFwch51Ig                       0                       0   \n",
              "pitYOVSsF8R1gWG1G0qxsA                       0                       0   \n",
              "\n",
              "                        VAeEXLbEcI9Emt9KGYq9aA  QHWYlmVbLC3K6eglWoHVvA  \n",
              "qEEk0PuoH1dVa619t8fgpw                       0                       0  \n",
              "EBa-0-6AKoy6jziNexDJtg                       0                       0  \n",
              "JYYYKt6TdVA4ng9lLcXt_g                       0                       0  \n",
              "7P9w2PrP4ZcJyDFwch51Ig                       0                       0  \n",
              "pitYOVSsF8R1gWG1G0qxsA                       0                       0  \n",
              "\n",
              "[5 rows x 100 columns]"
            ]
          },
          "execution_count": 58,
          "metadata": {},
          "output_type": "execute_result"
        }
      ],
      "source": [
        "UI_matrix.head()"
      ]
    },
    {
      "cell_type": "code",
      "execution_count": null,
      "id": "28dc35bc",
      "metadata": {
        "id": "28dc35bc"
      },
      "outputs": [],
      "source": [
        "UI_matrix.to_csv(f'UI_matrix_top {n_items}_items.csv')"
      ]
    },
    {
      "cell_type": "markdown",
      "id": "4522ce8a",
      "metadata": {
        "id": "4522ce8a"
      },
      "source": [
        "### Restaurant "
      ]
    },
    {
      "cell_type": "markdown",
      "id": "e155410c",
      "metadata": {
        "id": "e155410c"
      },
      "source": [
        "#### Considering attributes 'Food' and 'Restaurant' in buisness data frame"
      ]
    },
    {
      "cell_type": "markdown",
      "id": "44f1b407",
      "metadata": {
        "id": "44f1b407"
      },
      "source": [
        "#### Get buisness id if either of attributes 'food' or 'restaurant' is 1"
      ]
    },
    {
      "cell_type": "code",
      "execution_count": null,
      "id": "f28792d0",
      "metadata": {
        "id": "f28792d0"
      },
      "outputs": [],
      "source": [
        "df_food=df_buisness[['Restaurants','Food','business_id']]\n",
        "restaurants = []\n",
        "for i in range(len(df_food.index)):\n",
        "  if df_food['Restaurants'].iloc[i] == 1 or df_food['Food'].iloc[i] ==1:\n",
        "    restaurants.append(df_food['business_id'].iloc[i])"
      ]
    },
    {
      "cell_type": "markdown",
      "id": "b4e2972d",
      "metadata": {
        "id": "b4e2972d"
      },
      "source": [
        "#### Consider only those business from reviews that are in list restaurants"
      ]
    },
    {
      "cell_type": "code",
      "execution_count": null,
      "id": "b4e9b7bb",
      "metadata": {
        "id": "b4e9b7bb"
      },
      "outputs": [],
      "source": [
        "df_restaurant=df_review[df_review.business_id.isin(restaurants)]"
      ]
    },
    {
      "cell_type": "code",
      "execution_count": null,
      "id": "bf6db632",
      "metadata": {
        "id": "bf6db632"
      },
      "outputs": [],
      "source": [
        "df_restaurant = df_restaurant[['user_id','business_id','stars']]"
      ]
    },
    {
      "cell_type": "code",
      "execution_count": null,
      "id": "b784d22e",
      "metadata": {
        "id": "b784d22e"
      },
      "outputs": [],
      "source": [
        "df_restaurant.to_csv('df_restaurant.csv',index=False)"
      ]
    },
    {
      "cell_type": "markdown",
      "id": "ef679963",
      "metadata": {
        "id": "ef679963"
      },
      "source": [
        "#### Item-Item Collaborative Based Filtering - Using similarity matrix"
      ]
    },
    {
      "cell_type": "code",
      "execution_count": null,
      "id": "06ae13af",
      "metadata": {
        "id": "06ae13af"
      },
      "outputs": [],
      "source": [
        "df_matrix = pd.read_csv('UI_matrix_top 100_items.csv',index_col=[0])"
      ]
    },
    {
      "cell_type": "code",
      "execution_count": null,
      "id": "4f22bbb3",
      "metadata": {
        "id": "4f22bbb3",
        "outputId": "0490747e-01db-4f65-a78d-71ab0a68d1b2"
      },
      "outputs": [
        {
          "data": {
            "text/html": [
              "<div>\n",
              "<style scoped>\n",
              "    .dataframe tbody tr th:only-of-type {\n",
              "        vertical-align: middle;\n",
              "    }\n",
              "\n",
              "    .dataframe tbody tr th {\n",
              "        vertical-align: top;\n",
              "    }\n",
              "\n",
              "    .dataframe thead th {\n",
              "        text-align: right;\n",
              "    }\n",
              "</style>\n",
              "<table border=\"1\" class=\"dataframe\">\n",
              "  <thead>\n",
              "    <tr style=\"text-align: right;\">\n",
              "      <th></th>\n",
              "      <th>PY9GRfzr4nTZeINf346QOw</th>\n",
              "      <th>W4ZEKkva9HpAdZG88juwyQ</th>\n",
              "      <th>SZU9c8V2GuREDN5KgyHFJw</th>\n",
              "      <th>Zi-F-YvyVOK0k5QD7lrLOg</th>\n",
              "      <th>GBTPC53ZrG1ZBY3DT8Mbcw</th>\n",
              "      <th>pSmOH4a3HNNpYM82J5ycLA</th>\n",
              "      <th>8uF-bhJFgT4Tn6DTb27viA</th>\n",
              "      <th>UCMSWPqzXjd7QHq7v8PJjQ</th>\n",
              "      <th>vN6v8m4DO45Z4pp8yxxF_w</th>\n",
              "      <th>g04aAvgol7IW8buqSbT4xA</th>\n",
              "      <th>...</th>\n",
              "      <th>oBNrLz4EDhiscSlbOl8uAw</th>\n",
              "      <th>skY6r8WAkYqpV7_TxNm23w</th>\n",
              "      <th>iRIHK8-EwpeffwvoO4nzIA</th>\n",
              "      <th>OdIBX09glfXNVSyd0RnIeg</th>\n",
              "      <th>qQO7ErS_RAN4Vs1uX0L55Q</th>\n",
              "      <th>ytynqOUb3hjKeJfRj5Tshw</th>\n",
              "      <th>0RuvlgTnKFbX3IK0ZOOocA</th>\n",
              "      <th>1b5mnK8bMnnju_cvU65GqQ</th>\n",
              "      <th>VAeEXLbEcI9Emt9KGYq9aA</th>\n",
              "      <th>QHWYlmVbLC3K6eglWoHVvA</th>\n",
              "    </tr>\n",
              "  </thead>\n",
              "  <tbody>\n",
              "    <tr>\n",
              "      <th>qEEk0PuoH1dVa619t8fgpw</th>\n",
              "      <td>4</td>\n",
              "      <td>0</td>\n",
              "      <td>0</td>\n",
              "      <td>0</td>\n",
              "      <td>0</td>\n",
              "      <td>0</td>\n",
              "      <td>0</td>\n",
              "      <td>0</td>\n",
              "      <td>0</td>\n",
              "      <td>0</td>\n",
              "      <td>...</td>\n",
              "      <td>0</td>\n",
              "      <td>0</td>\n",
              "      <td>0</td>\n",
              "      <td>0</td>\n",
              "      <td>0</td>\n",
              "      <td>0</td>\n",
              "      <td>0</td>\n",
              "      <td>0</td>\n",
              "      <td>0</td>\n",
              "      <td>0</td>\n",
              "    </tr>\n",
              "    <tr>\n",
              "      <th>EBa-0-6AKoy6jziNexDJtg</th>\n",
              "      <td>0</td>\n",
              "      <td>3</td>\n",
              "      <td>0</td>\n",
              "      <td>0</td>\n",
              "      <td>4</td>\n",
              "      <td>0</td>\n",
              "      <td>0</td>\n",
              "      <td>0</td>\n",
              "      <td>0</td>\n",
              "      <td>0</td>\n",
              "      <td>...</td>\n",
              "      <td>5</td>\n",
              "      <td>0</td>\n",
              "      <td>0</td>\n",
              "      <td>0</td>\n",
              "      <td>0</td>\n",
              "      <td>0</td>\n",
              "      <td>0</td>\n",
              "      <td>0</td>\n",
              "      <td>0</td>\n",
              "      <td>0</td>\n",
              "    </tr>\n",
              "    <tr>\n",
              "      <th>JYYYKt6TdVA4ng9lLcXt_g</th>\n",
              "      <td>0</td>\n",
              "      <td>0</td>\n",
              "      <td>5</td>\n",
              "      <td>0</td>\n",
              "      <td>0</td>\n",
              "      <td>0</td>\n",
              "      <td>0</td>\n",
              "      <td>0</td>\n",
              "      <td>0</td>\n",
              "      <td>0</td>\n",
              "      <td>...</td>\n",
              "      <td>0</td>\n",
              "      <td>0</td>\n",
              "      <td>0</td>\n",
              "      <td>0</td>\n",
              "      <td>0</td>\n",
              "      <td>0</td>\n",
              "      <td>0</td>\n",
              "      <td>0</td>\n",
              "      <td>0</td>\n",
              "      <td>0</td>\n",
              "    </tr>\n",
              "    <tr>\n",
              "      <th>7P9w2PrP4ZcJyDFwch51Ig</th>\n",
              "      <td>0</td>\n",
              "      <td>0</td>\n",
              "      <td>0</td>\n",
              "      <td>5</td>\n",
              "      <td>4</td>\n",
              "      <td>0</td>\n",
              "      <td>0</td>\n",
              "      <td>0</td>\n",
              "      <td>0</td>\n",
              "      <td>0</td>\n",
              "      <td>...</td>\n",
              "      <td>0</td>\n",
              "      <td>0</td>\n",
              "      <td>0</td>\n",
              "      <td>0</td>\n",
              "      <td>0</td>\n",
              "      <td>0</td>\n",
              "      <td>0</td>\n",
              "      <td>0</td>\n",
              "      <td>0</td>\n",
              "      <td>0</td>\n",
              "    </tr>\n",
              "    <tr>\n",
              "      <th>pitYOVSsF8R1gWG1G0qxsA</th>\n",
              "      <td>0</td>\n",
              "      <td>0</td>\n",
              "      <td>0</td>\n",
              "      <td>0</td>\n",
              "      <td>4</td>\n",
              "      <td>0</td>\n",
              "      <td>0</td>\n",
              "      <td>0</td>\n",
              "      <td>0</td>\n",
              "      <td>0</td>\n",
              "      <td>...</td>\n",
              "      <td>0</td>\n",
              "      <td>0</td>\n",
              "      <td>0</td>\n",
              "      <td>0</td>\n",
              "      <td>0</td>\n",
              "      <td>0</td>\n",
              "      <td>0</td>\n",
              "      <td>0</td>\n",
              "      <td>0</td>\n",
              "      <td>0</td>\n",
              "    </tr>\n",
              "  </tbody>\n",
              "</table>\n",
              "<p>5 rows × 100 columns</p>\n",
              "</div>"
            ],
            "text/plain": [
              "                        PY9GRfzr4nTZeINf346QOw  W4ZEKkva9HpAdZG88juwyQ  \\\n",
              "qEEk0PuoH1dVa619t8fgpw                       4                       0   \n",
              "EBa-0-6AKoy6jziNexDJtg                       0                       3   \n",
              "JYYYKt6TdVA4ng9lLcXt_g                       0                       0   \n",
              "7P9w2PrP4ZcJyDFwch51Ig                       0                       0   \n",
              "pitYOVSsF8R1gWG1G0qxsA                       0                       0   \n",
              "\n",
              "                        SZU9c8V2GuREDN5KgyHFJw  Zi-F-YvyVOK0k5QD7lrLOg  \\\n",
              "qEEk0PuoH1dVa619t8fgpw                       0                       0   \n",
              "EBa-0-6AKoy6jziNexDJtg                       0                       0   \n",
              "JYYYKt6TdVA4ng9lLcXt_g                       5                       0   \n",
              "7P9w2PrP4ZcJyDFwch51Ig                       0                       5   \n",
              "pitYOVSsF8R1gWG1G0qxsA                       0                       0   \n",
              "\n",
              "                        GBTPC53ZrG1ZBY3DT8Mbcw  pSmOH4a3HNNpYM82J5ycLA  \\\n",
              "qEEk0PuoH1dVa619t8fgpw                       0                       0   \n",
              "EBa-0-6AKoy6jziNexDJtg                       4                       0   \n",
              "JYYYKt6TdVA4ng9lLcXt_g                       0                       0   \n",
              "7P9w2PrP4ZcJyDFwch51Ig                       4                       0   \n",
              "pitYOVSsF8R1gWG1G0qxsA                       4                       0   \n",
              "\n",
              "                        8uF-bhJFgT4Tn6DTb27viA  UCMSWPqzXjd7QHq7v8PJjQ  \\\n",
              "qEEk0PuoH1dVa619t8fgpw                       0                       0   \n",
              "EBa-0-6AKoy6jziNexDJtg                       0                       0   \n",
              "JYYYKt6TdVA4ng9lLcXt_g                       0                       0   \n",
              "7P9w2PrP4ZcJyDFwch51Ig                       0                       0   \n",
              "pitYOVSsF8R1gWG1G0qxsA                       0                       0   \n",
              "\n",
              "                        vN6v8m4DO45Z4pp8yxxF_w  g04aAvgol7IW8buqSbT4xA  ...  \\\n",
              "qEEk0PuoH1dVa619t8fgpw                       0                       0  ...   \n",
              "EBa-0-6AKoy6jziNexDJtg                       0                       0  ...   \n",
              "JYYYKt6TdVA4ng9lLcXt_g                       0                       0  ...   \n",
              "7P9w2PrP4ZcJyDFwch51Ig                       0                       0  ...   \n",
              "pitYOVSsF8R1gWG1G0qxsA                       0                       0  ...   \n",
              "\n",
              "                        oBNrLz4EDhiscSlbOl8uAw  skY6r8WAkYqpV7_TxNm23w  \\\n",
              "qEEk0PuoH1dVa619t8fgpw                       0                       0   \n",
              "EBa-0-6AKoy6jziNexDJtg                       5                       0   \n",
              "JYYYKt6TdVA4ng9lLcXt_g                       0                       0   \n",
              "7P9w2PrP4ZcJyDFwch51Ig                       0                       0   \n",
              "pitYOVSsF8R1gWG1G0qxsA                       0                       0   \n",
              "\n",
              "                        iRIHK8-EwpeffwvoO4nzIA  OdIBX09glfXNVSyd0RnIeg  \\\n",
              "qEEk0PuoH1dVa619t8fgpw                       0                       0   \n",
              "EBa-0-6AKoy6jziNexDJtg                       0                       0   \n",
              "JYYYKt6TdVA4ng9lLcXt_g                       0                       0   \n",
              "7P9w2PrP4ZcJyDFwch51Ig                       0                       0   \n",
              "pitYOVSsF8R1gWG1G0qxsA                       0                       0   \n",
              "\n",
              "                        qQO7ErS_RAN4Vs1uX0L55Q  ytynqOUb3hjKeJfRj5Tshw  \\\n",
              "qEEk0PuoH1dVa619t8fgpw                       0                       0   \n",
              "EBa-0-6AKoy6jziNexDJtg                       0                       0   \n",
              "JYYYKt6TdVA4ng9lLcXt_g                       0                       0   \n",
              "7P9w2PrP4ZcJyDFwch51Ig                       0                       0   \n",
              "pitYOVSsF8R1gWG1G0qxsA                       0                       0   \n",
              "\n",
              "                        0RuvlgTnKFbX3IK0ZOOocA  1b5mnK8bMnnju_cvU65GqQ  \\\n",
              "qEEk0PuoH1dVa619t8fgpw                       0                       0   \n",
              "EBa-0-6AKoy6jziNexDJtg                       0                       0   \n",
              "JYYYKt6TdVA4ng9lLcXt_g                       0                       0   \n",
              "7P9w2PrP4ZcJyDFwch51Ig                       0                       0   \n",
              "pitYOVSsF8R1gWG1G0qxsA                       0                       0   \n",
              "\n",
              "                        VAeEXLbEcI9Emt9KGYq9aA  QHWYlmVbLC3K6eglWoHVvA  \n",
              "qEEk0PuoH1dVa619t8fgpw                       0                       0  \n",
              "EBa-0-6AKoy6jziNexDJtg                       0                       0  \n",
              "JYYYKt6TdVA4ng9lLcXt_g                       0                       0  \n",
              "7P9w2PrP4ZcJyDFwch51Ig                       0                       0  \n",
              "pitYOVSsF8R1gWG1G0qxsA                       0                       0  \n",
              "\n",
              "[5 rows x 100 columns]"
            ]
          },
          "execution_count": 80,
          "metadata": {},
          "output_type": "execute_result"
        }
      ],
      "source": [
        "df_matrix.head()"
      ]
    },
    {
      "cell_type": "code",
      "execution_count": null,
      "id": "7c654c38",
      "metadata": {
        "id": "7c654c38",
        "outputId": "c6be32e2-6176-4a1b-bcf3-0b19b6549902"
      },
      "outputs": [
        {
          "name": "stdout",
          "output_type": "stream",
          "text": [
            "No of users:192665, Along rows\n",
            "No of items:100, Along columns\n"
          ]
        }
      ],
      "source": [
        "print(f'No of users:{df_matrix.shape[0]}, Along rows')\n",
        "print(f'No of items:{df_matrix.shape[1]}, Along columns')"
      ]
    },
    {
      "cell_type": "code",
      "execution_count": null,
      "id": "16e82756",
      "metadata": {
        "id": "16e82756",
        "outputId": "02a7b8ec-4d29-4916-d3fc-087ae9900490"
      },
      "outputs": [
        {
          "data": {
            "image/png": "[encoded data removed]",
            "text/plain": [
              "<Figure size 720x720 with 1 Axes>"
            ]
          },
          "metadata": {},
          "output_type": "display_data"
        }
      ],
      "source": [
        "sns.set_style(\"darkgrid\")\n",
        "review_per_item = df_matrix.sum(axis=0)\n",
        "plt.hist(review_per_item,bins=20,color='#ff3399')\n",
        "plt.xlabel('No of reviews per item')\n",
        "plt.ylabel('Count of items')\n",
        "plt.title('Distribution number of reviews for items')\n",
        "plt.show()"
      ]
    },
    {
      "cell_type": "markdown",
      "id": "ddef5417",
      "metadata": {
        "id": "ddef5417"
      },
      "source": [
        "Remove users with less than 14 reviews to reduce no of users as the algorithm takes a lot of time to run."
      ]
    },
    {
      "cell_type": "code",
      "execution_count": null,
      "id": "afc3c799",
      "metadata": {
        "id": "afc3c799"
      },
      "outputs": [],
      "source": [
        "items_to_drop=[]\n",
        "for col,val in df_matrix.sum(axis=1).items():\n",
        "  if val < 14:\n",
        "    items_to_drop.append(col)"
      ]
    },
    {
      "cell_type": "code",
      "execution_count": null,
      "id": "7a406985",
      "metadata": {
        "id": "7a406985",
        "outputId": "5595df73-6fd4-48a7-ed18-cf7e9b83777d"
      },
      "outputs": [
        {
          "name": "stdout",
          "output_type": "stream",
          "text": [
            "No of items to drop:181362\n"
          ]
        }
      ],
      "source": [
        "print(f'No of items to drop:{len(items_to_drop)}')"
      ]
    },
    {
      "cell_type": "code",
      "execution_count": null,
      "id": "d097c3a9",
      "metadata": {
        "id": "d097c3a9"
      },
      "outputs": [],
      "source": [
        "df_matrix.drop(items_to_drop,axis=0,inplace=True)"
      ]
    },
    {
      "cell_type": "code",
      "execution_count": null,
      "id": "a1e9d641",
      "metadata": {
        "id": "a1e9d641",
        "outputId": "9b44e446-2e9f-41f6-98ab-2d052ff9b218"
      },
      "outputs": [
        {
          "data": {
            "text/plain": [
              "(11303, 100)"
            ]
          },
          "execution_count": 107,
          "metadata": {},
          "output_type": "execute_result"
        }
      ],
      "source": [
        "df_matrix.shape"
      ]
    },
    {
      "cell_type": "markdown",
      "id": "992acc19",
      "metadata": {
        "id": "992acc19"
      },
      "source": [
        "### Centered data"
      ]
    },
    {
      "cell_type": "markdown",
      "id": "81539446",
      "metadata": {
        "id": "81539446"
      },
      "source": [
        "#### Normalizing ratings by subtracting row mean"
      ]
    },
    {
      "cell_type": "code",
      "execution_count": null,
      "id": "386b3b09",
      "metadata": {
        "id": "386b3b09"
      },
      "outputs": [],
      "source": [
        "pd.set_option('display.float_format', lambda x: '%.5f' % x)\n",
        "# mean of the rows\n",
        "users_mean_rating = df_matrix.mean(axis=1)\n",
        "# subtract all values by mean of the row\n",
        "df_mat_norm=df_matrix.sub(users_mean_rating,axis='rows')"
      ]
    },
    {
      "cell_type": "code",
      "execution_count": null,
      "id": "71d44e2b",
      "metadata": {
        "id": "71d44e2b"
      },
      "outputs": [],
      "source": [
        "df_mat_norm=df_mat_norm.astype('float16')"
      ]
    },
    {
      "cell_type": "code",
      "execution_count": null,
      "id": "d47cce67",
      "metadata": {
        "id": "d47cce67"
      },
      "outputs": [],
      "source": [
        "#Convert to matrix\n",
        "ui_mat_norm = df_mat_norm.values\n",
        "ui_mat = df_matrix.values"
      ]
    },
    {
      "cell_type": "markdown",
      "id": "b827076a",
      "metadata": {
        "id": "b827076a"
      },
      "source": [
        "### Cosine similarity"
      ]
    },
    {
      "cell_type": "code",
      "execution_count": null,
      "id": "b03f3508",
      "metadata": {
        "id": "b03f3508",
        "outputId": "4b6ff5fd-6aa3-4e88-cbe3-d3799bda72f6"
      },
      "outputs": [
        {
          "name": "stdout",
          "output_type": "stream",
          "text": [
            "item: 0\n",
            "item: 25\n",
            "item: 50\n",
            "item: 75\n"
          ]
        }
      ],
      "source": [
        "n_items=ui_mat_norm.shape[1]\n",
        "sim_matrix={}\n",
        "# Loop through the columns\n",
        "for i in range(n_items):\n",
        "  row_sim=[]\n",
        "  col = df_matrix.columns[i]\n",
        "  # Loop through the columns for each column\n",
        "  for j in range(n_items):\n",
        "    #sim=cal_cosine_sim(ui_mat_norm[:,i],ui_mat_norm[:,j],ui_mat[:,i],ui_mat[:,j])\n",
        "    sim=1-spatial.distance.cosine(ui_mat_norm[:,i],ui_mat_norm[:,j])\n",
        "    row_sim.append(sim)\n",
        "  sim_matrix[col]=row_sim\n",
        "  if i%25==0:\n",
        "    print('item:',i)"
      ]
    },
    {
      "cell_type": "code",
      "execution_count": null,
      "id": "64efacc1",
      "metadata": {
        "id": "64efacc1",
        "outputId": "26b2a75f-cccc-41ff-f3ad-687ecfd0c5b6"
      },
      "outputs": [
        {
          "data": {
            "text/html": [
              "<div>\n",
              "<style scoped>\n",
              "    .dataframe tbody tr th:only-of-type {\n",
              "        vertical-align: middle;\n",
              "    }\n",
              "\n",
              "    .dataframe tbody tr th {\n",
              "        vertical-align: top;\n",
              "    }\n",
              "\n",
              "    .dataframe thead th {\n",
              "        text-align: right;\n",
              "    }\n",
              "</style>\n",
              "<table border=\"1\" class=\"dataframe\">\n",
              "  <thead>\n",
              "    <tr style=\"text-align: right;\">\n",
              "      <th></th>\n",
              "      <th>PY9GRfzr4nTZeINf346QOw</th>\n",
              "      <th>W4ZEKkva9HpAdZG88juwyQ</th>\n",
              "      <th>SZU9c8V2GuREDN5KgyHFJw</th>\n",
              "      <th>Zi-F-YvyVOK0k5QD7lrLOg</th>\n",
              "      <th>GBTPC53ZrG1ZBY3DT8Mbcw</th>\n",
              "      <th>pSmOH4a3HNNpYM82J5ycLA</th>\n",
              "      <th>8uF-bhJFgT4Tn6DTb27viA</th>\n",
              "      <th>UCMSWPqzXjd7QHq7v8PJjQ</th>\n",
              "      <th>vN6v8m4DO45Z4pp8yxxF_w</th>\n",
              "      <th>g04aAvgol7IW8buqSbT4xA</th>\n",
              "      <th>...</th>\n",
              "      <th>oBNrLz4EDhiscSlbOl8uAw</th>\n",
              "      <th>skY6r8WAkYqpV7_TxNm23w</th>\n",
              "      <th>iRIHK8-EwpeffwvoO4nzIA</th>\n",
              "      <th>OdIBX09glfXNVSyd0RnIeg</th>\n",
              "      <th>qQO7ErS_RAN4Vs1uX0L55Q</th>\n",
              "      <th>ytynqOUb3hjKeJfRj5Tshw</th>\n",
              "      <th>0RuvlgTnKFbX3IK0ZOOocA</th>\n",
              "      <th>1b5mnK8bMnnju_cvU65GqQ</th>\n",
              "      <th>VAeEXLbEcI9Emt9KGYq9aA</th>\n",
              "      <th>QHWYlmVbLC3K6eglWoHVvA</th>\n",
              "    </tr>\n",
              "  </thead>\n",
              "  <tbody>\n",
              "    <tr>\n",
              "      <th>PY9GRfzr4nTZeINf346QOw</th>\n",
              "      <td>1.00000</td>\n",
              "      <td>-0.00919</td>\n",
              "      <td>0.17407</td>\n",
              "      <td>0.00645</td>\n",
              "      <td>-0.12122</td>\n",
              "      <td>0.05823</td>\n",
              "      <td>-0.02663</td>\n",
              "      <td>0.30835</td>\n",
              "      <td>-0.01654</td>\n",
              "      <td>0.05533</td>\n",
              "      <td>...</td>\n",
              "      <td>-0.06836</td>\n",
              "      <td>0.18628</td>\n",
              "      <td>0.12341</td>\n",
              "      <td>-0.02332</td>\n",
              "      <td>-0.05133</td>\n",
              "      <td>-0.13416</td>\n",
              "      <td>-0.00730</td>\n",
              "      <td>-0.02466</td>\n",
              "      <td>0.04102</td>\n",
              "      <td>0.02667</td>\n",
              "    </tr>\n",
              "    <tr>\n",
              "      <th>W4ZEKkva9HpAdZG88juwyQ</th>\n",
              "      <td>-0.00919</td>\n",
              "      <td>1.00000</td>\n",
              "      <td>-0.01185</td>\n",
              "      <td>0.03372</td>\n",
              "      <td>0.04486</td>\n",
              "      <td>-0.03427</td>\n",
              "      <td>-0.01408</td>\n",
              "      <td>-0.02058</td>\n",
              "      <td>-0.00156</td>\n",
              "      <td>0.00692</td>\n",
              "      <td>...</td>\n",
              "      <td>0.01041</td>\n",
              "      <td>-0.00916</td>\n",
              "      <td>-0.01355</td>\n",
              "      <td>-0.05569</td>\n",
              "      <td>-0.05811</td>\n",
              "      <td>-0.06241</td>\n",
              "      <td>-0.05939</td>\n",
              "      <td>-0.02861</td>\n",
              "      <td>-0.03577</td>\n",
              "      <td>-0.03217</td>\n",
              "    </tr>\n",
              "    <tr>\n",
              "      <th>SZU9c8V2GuREDN5KgyHFJw</th>\n",
              "      <td>0.17407</td>\n",
              "      <td>-0.01185</td>\n",
              "      <td>1.00000</td>\n",
              "      <td>-0.00419</td>\n",
              "      <td>-0.06775</td>\n",
              "      <td>0.03720</td>\n",
              "      <td>-0.02966</td>\n",
              "      <td>0.20520</td>\n",
              "      <td>-0.02403</td>\n",
              "      <td>0.03046</td>\n",
              "      <td>...</td>\n",
              "      <td>-0.06665</td>\n",
              "      <td>0.37158</td>\n",
              "      <td>0.08606</td>\n",
              "      <td>-0.02054</td>\n",
              "      <td>-0.05096</td>\n",
              "      <td>-0.10883</td>\n",
              "      <td>-0.02423</td>\n",
              "      <td>-0.01226</td>\n",
              "      <td>0.02367</td>\n",
              "      <td>0.00358</td>\n",
              "    </tr>\n",
              "    <tr>\n",
              "      <th>Zi-F-YvyVOK0k5QD7lrLOg</th>\n",
              "      <td>0.00645</td>\n",
              "      <td>0.03372</td>\n",
              "      <td>-0.00419</td>\n",
              "      <td>1.00000</td>\n",
              "      <td>0.00575</td>\n",
              "      <td>-0.01866</td>\n",
              "      <td>-0.01279</td>\n",
              "      <td>0.01851</td>\n",
              "      <td>0.00160</td>\n",
              "      <td>0.02112</td>\n",
              "      <td>...</td>\n",
              "      <td>-0.00092</td>\n",
              "      <td>-0.00327</td>\n",
              "      <td>-0.01433</td>\n",
              "      <td>-0.04871</td>\n",
              "      <td>-0.06702</td>\n",
              "      <td>-0.07819</td>\n",
              "      <td>-0.05035</td>\n",
              "      <td>-0.03830</td>\n",
              "      <td>-0.02142</td>\n",
              "      <td>-0.03784</td>\n",
              "    </tr>\n",
              "    <tr>\n",
              "      <th>GBTPC53ZrG1ZBY3DT8Mbcw</th>\n",
              "      <td>-0.12122</td>\n",
              "      <td>0.04486</td>\n",
              "      <td>-0.06775</td>\n",
              "      <td>0.00575</td>\n",
              "      <td>1.00000</td>\n",
              "      <td>-0.07098</td>\n",
              "      <td>0.04565</td>\n",
              "      <td>-0.12854</td>\n",
              "      <td>0.04163</td>\n",
              "      <td>-0.04803</td>\n",
              "      <td>...</td>\n",
              "      <td>0.07452</td>\n",
              "      <td>-0.09558</td>\n",
              "      <td>-0.07733</td>\n",
              "      <td>-0.06903</td>\n",
              "      <td>-0.06061</td>\n",
              "      <td>-0.03873</td>\n",
              "      <td>-0.07507</td>\n",
              "      <td>-0.06274</td>\n",
              "      <td>-0.07288</td>\n",
              "      <td>-0.07227</td>\n",
              "    </tr>\n",
              "    <tr>\n",
              "      <th>pSmOH4a3HNNpYM82J5ycLA</th>\n",
              "      <td>0.05823</td>\n",
              "      <td>-0.03427</td>\n",
              "      <td>0.03720</td>\n",
              "      <td>-0.01866</td>\n",
              "      <td>-0.07098</td>\n",
              "      <td>1.00000</td>\n",
              "      <td>-0.04169</td>\n",
              "      <td>0.07361</td>\n",
              "      <td>-0.02815</td>\n",
              "      <td>0.00383</td>\n",
              "      <td>...</td>\n",
              "      <td>-0.02927</td>\n",
              "      <td>0.03012</td>\n",
              "      <td>0.04688</td>\n",
              "      <td>-0.04181</td>\n",
              "      <td>-0.04550</td>\n",
              "      <td>-0.06183</td>\n",
              "      <td>-0.03656</td>\n",
              "      <td>0.14551</td>\n",
              "      <td>0.27002</td>\n",
              "      <td>-0.00278</td>\n",
              "    </tr>\n",
              "    <tr>\n",
              "      <th>8uF-bhJFgT4Tn6DTb27viA</th>\n",
              "      <td>-0.02663</td>\n",
              "      <td>-0.01408</td>\n",
              "      <td>-0.02966</td>\n",
              "      <td>-0.01279</td>\n",
              "      <td>0.04565</td>\n",
              "      <td>-0.04169</td>\n",
              "      <td>1.00000</td>\n",
              "      <td>-0.01926</td>\n",
              "      <td>0.12830</td>\n",
              "      <td>-0.00898</td>\n",
              "      <td>...</td>\n",
              "      <td>0.02551</td>\n",
              "      <td>-0.02531</td>\n",
              "      <td>-0.01929</td>\n",
              "      <td>-0.06125</td>\n",
              "      <td>-0.05658</td>\n",
              "      <td>-0.07336</td>\n",
              "      <td>-0.06140</td>\n",
              "      <td>-0.03226</td>\n",
              "      <td>-0.04025</td>\n",
              "      <td>-0.02698</td>\n",
              "    </tr>\n",
              "    <tr>\n",
              "      <th>UCMSWPqzXjd7QHq7v8PJjQ</th>\n",
              "      <td>0.30835</td>\n",
              "      <td>-0.02058</td>\n",
              "      <td>0.20520</td>\n",
              "      <td>0.01851</td>\n",
              "      <td>-0.12854</td>\n",
              "      <td>0.07361</td>\n",
              "      <td>-0.01926</td>\n",
              "      <td>1.00000</td>\n",
              "      <td>-0.00970</td>\n",
              "      <td>0.07532</td>\n",
              "      <td>...</td>\n",
              "      <td>-0.06451</td>\n",
              "      <td>0.21362</td>\n",
              "      <td>0.16101</td>\n",
              "      <td>-0.02435</td>\n",
              "      <td>-0.05795</td>\n",
              "      <td>-0.15955</td>\n",
              "      <td>-0.01179</td>\n",
              "      <td>-0.01878</td>\n",
              "      <td>0.05725</td>\n",
              "      <td>0.03513</td>\n",
              "    </tr>\n",
              "    <tr>\n",
              "      <th>vN6v8m4DO45Z4pp8yxxF_w</th>\n",
              "      <td>-0.01654</td>\n",
              "      <td>-0.00156</td>\n",
              "      <td>-0.02403</td>\n",
              "      <td>0.00160</td>\n",
              "      <td>0.04163</td>\n",
              "      <td>-0.02815</td>\n",
              "      <td>0.12830</td>\n",
              "      <td>-0.00970</td>\n",
              "      <td>1.00000</td>\n",
              "      <td>0.00893</td>\n",
              "      <td>...</td>\n",
              "      <td>0.01994</td>\n",
              "      <td>-0.02150</td>\n",
              "      <td>-0.01447</td>\n",
              "      <td>-0.05444</td>\n",
              "      <td>-0.06262</td>\n",
              "      <td>-0.07831</td>\n",
              "      <td>-0.05710</td>\n",
              "      <td>-0.03827</td>\n",
              "      <td>-0.03613</td>\n",
              "      <td>-0.02888</td>\n",
              "    </tr>\n",
              "    <tr>\n",
              "      <th>g04aAvgol7IW8buqSbT4xA</th>\n",
              "      <td>0.05533</td>\n",
              "      <td>0.00692</td>\n",
              "      <td>0.03046</td>\n",
              "      <td>0.02112</td>\n",
              "      <td>-0.04803</td>\n",
              "      <td>0.00383</td>\n",
              "      <td>-0.00898</td>\n",
              "      <td>0.07532</td>\n",
              "      <td>0.00893</td>\n",
              "      <td>1.00000</td>\n",
              "      <td>...</td>\n",
              "      <td>0.03421</td>\n",
              "      <td>0.04367</td>\n",
              "      <td>0.03336</td>\n",
              "      <td>-0.04788</td>\n",
              "      <td>-0.05652</td>\n",
              "      <td>-0.08478</td>\n",
              "      <td>-0.03574</td>\n",
              "      <td>-0.03156</td>\n",
              "      <td>-0.00462</td>\n",
              "      <td>-0.01836</td>\n",
              "    </tr>\n",
              "  </tbody>\n",
              "</table>\n",
              "<p>10 rows × 100 columns</p>\n",
              "</div>"
            ],
            "text/plain": [
              "                        PY9GRfzr4nTZeINf346QOw  W4ZEKkva9HpAdZG88juwyQ  \\\n",
              "PY9GRfzr4nTZeINf346QOw                 1.00000                -0.00919   \n",
              "W4ZEKkva9HpAdZG88juwyQ                -0.00919                 1.00000   \n",
              "SZU9c8V2GuREDN5KgyHFJw                 0.17407                -0.01185   \n",
              "Zi-F-YvyVOK0k5QD7lrLOg                 0.00645                 0.03372   \n",
              "GBTPC53ZrG1ZBY3DT8Mbcw                -0.12122                 0.04486   \n",
              "pSmOH4a3HNNpYM82J5ycLA                 0.05823                -0.03427   \n",
              "8uF-bhJFgT4Tn6DTb27viA                -0.02663                -0.01408   \n",
              "UCMSWPqzXjd7QHq7v8PJjQ                 0.30835                -0.02058   \n",
              "vN6v8m4DO45Z4pp8yxxF_w                -0.01654                -0.00156   \n",
              "g04aAvgol7IW8buqSbT4xA                 0.05533                 0.00692   \n",
              "\n",
              "                        SZU9c8V2GuREDN5KgyHFJw  Zi-F-YvyVOK0k5QD7lrLOg  \\\n",
              "PY9GRfzr4nTZeINf346QOw                 0.17407                 0.00645   \n",
              "W4ZEKkva9HpAdZG88juwyQ                -0.01185                 0.03372   \n",
              "SZU9c8V2GuREDN5KgyHFJw                 1.00000                -0.00419   \n",
              "Zi-F-YvyVOK0k5QD7lrLOg                -0.00419                 1.00000   \n",
              "GBTPC53ZrG1ZBY3DT8Mbcw                -0.06775                 0.00575   \n",
              "pSmOH4a3HNNpYM82J5ycLA                 0.03720                -0.01866   \n",
              "8uF-bhJFgT4Tn6DTb27viA                -0.02966                -0.01279   \n",
              "UCMSWPqzXjd7QHq7v8PJjQ                 0.20520                 0.01851   \n",
              "vN6v8m4DO45Z4pp8yxxF_w                -0.02403                 0.00160   \n",
              "g04aAvgol7IW8buqSbT4xA                 0.03046                 0.02112   \n",
              "\n",
              "                        GBTPC53ZrG1ZBY3DT8Mbcw  pSmOH4a3HNNpYM82J5ycLA  \\\n",
              "PY9GRfzr4nTZeINf346QOw                -0.12122                 0.05823   \n",
              "W4ZEKkva9HpAdZG88juwyQ                 0.04486                -0.03427   \n",
              "SZU9c8V2GuREDN5KgyHFJw                -0.06775                 0.03720   \n",
              "Zi-F-YvyVOK0k5QD7lrLOg                 0.00575                -0.01866   \n",
              "GBTPC53ZrG1ZBY3DT8Mbcw                 1.00000                -0.07098   \n",
              "pSmOH4a3HNNpYM82J5ycLA                -0.07098                 1.00000   \n",
              "8uF-bhJFgT4Tn6DTb27viA                 0.04565                -0.04169   \n",
              "UCMSWPqzXjd7QHq7v8PJjQ                -0.12854                 0.07361   \n",
              "vN6v8m4DO45Z4pp8yxxF_w                 0.04163                -0.02815   \n",
              "g04aAvgol7IW8buqSbT4xA                -0.04803                 0.00383   \n",
              "\n",
              "                        8uF-bhJFgT4Tn6DTb27viA  UCMSWPqzXjd7QHq7v8PJjQ  \\\n",
              "PY9GRfzr4nTZeINf346QOw                -0.02663                 0.30835   \n",
              "W4ZEKkva9HpAdZG88juwyQ                -0.01408                -0.02058   \n",
              "SZU9c8V2GuREDN5KgyHFJw                -0.02966                 0.20520   \n",
              "Zi-F-YvyVOK0k5QD7lrLOg                -0.01279                 0.01851   \n",
              "GBTPC53ZrG1ZBY3DT8Mbcw                 0.04565                -0.12854   \n",
              "pSmOH4a3HNNpYM82J5ycLA                -0.04169                 0.07361   \n",
              "8uF-bhJFgT4Tn6DTb27viA                 1.00000                -0.01926   \n",
              "UCMSWPqzXjd7QHq7v8PJjQ                -0.01926                 1.00000   \n",
              "vN6v8m4DO45Z4pp8yxxF_w                 0.12830                -0.00970   \n",
              "g04aAvgol7IW8buqSbT4xA                -0.00898                 0.07532   \n",
              "\n",
              "                        vN6v8m4DO45Z4pp8yxxF_w  g04aAvgol7IW8buqSbT4xA  ...  \\\n",
              "PY9GRfzr4nTZeINf346QOw                -0.01654                 0.05533  ...   \n",
              "W4ZEKkva9HpAdZG88juwyQ                -0.00156                 0.00692  ...   \n",
              "SZU9c8V2GuREDN5KgyHFJw                -0.02403                 0.03046  ...   \n",
              "Zi-F-YvyVOK0k5QD7lrLOg                 0.00160                 0.02112  ...   \n",
              "GBTPC53ZrG1ZBY3DT8Mbcw                 0.04163                -0.04803  ...   \n",
              "pSmOH4a3HNNpYM82J5ycLA                -0.02815                 0.00383  ...   \n",
              "8uF-bhJFgT4Tn6DTb27viA                 0.12830                -0.00898  ...   \n",
              "UCMSWPqzXjd7QHq7v8PJjQ                -0.00970                 0.07532  ...   \n",
              "vN6v8m4DO45Z4pp8yxxF_w                 1.00000                 0.00893  ...   \n",
              "g04aAvgol7IW8buqSbT4xA                 0.00893                 1.00000  ...   \n",
              "\n",
              "                        oBNrLz4EDhiscSlbOl8uAw  skY6r8WAkYqpV7_TxNm23w  \\\n",
              "PY9GRfzr4nTZeINf346QOw                -0.06836                 0.18628   \n",
              "W4ZEKkva9HpAdZG88juwyQ                 0.01041                -0.00916   \n",
              "SZU9c8V2GuREDN5KgyHFJw                -0.06665                 0.37158   \n",
              "Zi-F-YvyVOK0k5QD7lrLOg                -0.00092                -0.00327   \n",
              "GBTPC53ZrG1ZBY3DT8Mbcw                 0.07452                -0.09558   \n",
              "pSmOH4a3HNNpYM82J5ycLA                -0.02927                 0.03012   \n",
              "8uF-bhJFgT4Tn6DTb27viA                 0.02551                -0.02531   \n",
              "UCMSWPqzXjd7QHq7v8PJjQ                -0.06451                 0.21362   \n",
              "vN6v8m4DO45Z4pp8yxxF_w                 0.01994                -0.02150   \n",
              "g04aAvgol7IW8buqSbT4xA                 0.03421                 0.04367   \n",
              "\n",
              "                        iRIHK8-EwpeffwvoO4nzIA  OdIBX09glfXNVSyd0RnIeg  \\\n",
              "PY9GRfzr4nTZeINf346QOw                 0.12341                -0.02332   \n",
              "W4ZEKkva9HpAdZG88juwyQ                -0.01355                -0.05569   \n",
              "SZU9c8V2GuREDN5KgyHFJw                 0.08606                -0.02054   \n",
              "Zi-F-YvyVOK0k5QD7lrLOg                -0.01433                -0.04871   \n",
              "GBTPC53ZrG1ZBY3DT8Mbcw                -0.07733                -0.06903   \n",
              "pSmOH4a3HNNpYM82J5ycLA                 0.04688                -0.04181   \n",
              "8uF-bhJFgT4Tn6DTb27viA                -0.01929                -0.06125   \n",
              "UCMSWPqzXjd7QHq7v8PJjQ                 0.16101                -0.02435   \n",
              "vN6v8m4DO45Z4pp8yxxF_w                -0.01447                -0.05444   \n",
              "g04aAvgol7IW8buqSbT4xA                 0.03336                -0.04788   \n",
              "\n",
              "                        qQO7ErS_RAN4Vs1uX0L55Q  ytynqOUb3hjKeJfRj5Tshw  \\\n",
              "PY9GRfzr4nTZeINf346QOw                -0.05133                -0.13416   \n",
              "W4ZEKkva9HpAdZG88juwyQ                -0.05811                -0.06241   \n",
              "SZU9c8V2GuREDN5KgyHFJw                -0.05096                -0.10883   \n",
              "Zi-F-YvyVOK0k5QD7lrLOg                -0.06702                -0.07819   \n",
              "GBTPC53ZrG1ZBY3DT8Mbcw                -0.06061                -0.03873   \n",
              "pSmOH4a3HNNpYM82J5ycLA                -0.04550                -0.06183   \n",
              "8uF-bhJFgT4Tn6DTb27viA                -0.05658                -0.07336   \n",
              "UCMSWPqzXjd7QHq7v8PJjQ                -0.05795                -0.15955   \n",
              "vN6v8m4DO45Z4pp8yxxF_w                -0.06262                -0.07831   \n",
              "g04aAvgol7IW8buqSbT4xA                -0.05652                -0.08478   \n",
              "\n",
              "                        0RuvlgTnKFbX3IK0ZOOocA  1b5mnK8bMnnju_cvU65GqQ  \\\n",
              "PY9GRfzr4nTZeINf346QOw                -0.00730                -0.02466   \n",
              "W4ZEKkva9HpAdZG88juwyQ                -0.05939                -0.02861   \n",
              "SZU9c8V2GuREDN5KgyHFJw                -0.02423                -0.01226   \n",
              "Zi-F-YvyVOK0k5QD7lrLOg                -0.05035                -0.03830   \n",
              "GBTPC53ZrG1ZBY3DT8Mbcw                -0.07507                -0.06274   \n",
              "pSmOH4a3HNNpYM82J5ycLA                -0.03656                 0.14551   \n",
              "8uF-bhJFgT4Tn6DTb27viA                -0.06140                -0.03226   \n",
              "UCMSWPqzXjd7QHq7v8PJjQ                -0.01179                -0.01878   \n",
              "vN6v8m4DO45Z4pp8yxxF_w                -0.05710                -0.03827   \n",
              "g04aAvgol7IW8buqSbT4xA                -0.03574                -0.03156   \n",
              "\n",
              "                        VAeEXLbEcI9Emt9KGYq9aA  QHWYlmVbLC3K6eglWoHVvA  \n",
              "PY9GRfzr4nTZeINf346QOw                 0.04102                 0.02667  \n",
              "W4ZEKkva9HpAdZG88juwyQ                -0.03577                -0.03217  \n",
              "SZU9c8V2GuREDN5KgyHFJw                 0.02367                 0.00358  \n",
              "Zi-F-YvyVOK0k5QD7lrLOg                -0.02142                -0.03784  \n",
              "GBTPC53ZrG1ZBY3DT8Mbcw                -0.07288                -0.07227  \n",
              "pSmOH4a3HNNpYM82J5ycLA                 0.27002                -0.00278  \n",
              "8uF-bhJFgT4Tn6DTb27viA                -0.04025                -0.02698  \n",
              "UCMSWPqzXjd7QHq7v8PJjQ                 0.05725                 0.03513  \n",
              "vN6v8m4DO45Z4pp8yxxF_w                -0.03613                -0.02888  \n",
              "g04aAvgol7IW8buqSbT4xA                -0.00462                -0.01836  \n",
              "\n",
              "[10 rows x 100 columns]"
            ]
          },
          "execution_count": 112,
          "metadata": {},
          "output_type": "execute_result"
        }
      ],
      "source": [
        "# create df of similarity for better visualization\n",
        "similarity_df=pd.DataFrame.from_dict(sim_matrix,columns=df_matrix.columns,orient='index')\n",
        "similarity_df.head(10)"
      ]
    },
    {
      "cell_type": "markdown",
      "id": "dd5c5541",
      "metadata": {
        "id": "dd5c5541"
      },
      "source": [
        "Get item score for each userGet item score for each user"
      ]
    },
    {
      "cell_type": "code",
      "execution_count": null,
      "id": "16684d55",
      "metadata": {
        "id": "16684d55"
      },
      "outputs": [],
      "source": [
        "def cal_score(similarities,history,avgRating):\n",
        "  nume=np.sum((history-avgRating)*similarities)\n",
        "  deno=np.sum(similarities)\n",
        "\n",
        "  return nume/deno\n",
        "\n",
        "def get_user_score(sim_mat,df,user,user_items,n=10):\n",
        "  ratings = user_items.values\n",
        "  mean_user_rate = np.mean(ratings)\n",
        "  score_vector=[]\n",
        "  # iterrate over all items\n",
        "  for item,rate in user_items.items():\n",
        "    # for item 'i'\n",
        "    # check if the item 'i' is already rated\n",
        "    if rate > 0:\n",
        "      # if rated store -1 so its not recommended\n",
        "      score = -1\n",
        "    else:\n",
        "      # get 10 most similar items to the item 'i'\n",
        "      # first most similar item is item 'i', hence 1 to n+1\n",
        "      topN = sim_mat[item].sort_values(ascending=False).iloc[1:n]\n",
        "      rate_history=df[topN.index].loc[user]\n",
        "      # get mean item rating\n",
        "      mean_user_rate=df[topN.index].mean(axis=0)\n",
        "      score=cal_score(topN.values,rate_history.values,mean_user_rate.values)\n",
        "    score_vector.append(score)\n",
        "  return score_vector"
      ]
    },
    {
      "cell_type": "code",
      "execution_count": null,
      "id": "a0c3399d",
      "metadata": {
        "id": "a0c3399d",
        "outputId": "8813fb67-dd39-424c-94ff-8f234d42deb5"
      },
      "outputs": [
        {
          "name": "stdout",
          "output_type": "stream",
          "text": [
            "user: 0\n",
            "user: 1000\n",
            "user: 2000\n",
            "user: 3000\n",
            "user: 4000\n",
            "user: 5000\n",
            "user: 6000\n",
            "user: 7000\n",
            "user: 8000\n",
            "user: 9000\n",
            "user: 10000\n",
            "user: 11000\n"
          ]
        }
      ],
      "source": [
        "user_score_dict={}\n",
        "for i,user in enumerate(df_matrix.index):\n",
        "  if i%1000==0:\n",
        "    print('user:',i)\n",
        "  user_items = df_matrix.loc[user]\n",
        "  user_score=get_user_score(similarity_df,df_matrix,user_items.name,user_items)\n",
        "  user_score_dict[user] = user_score"
      ]
    },
    {
      "cell_type": "code",
      "execution_count": null,
      "id": "166f9f4b",
      "metadata": {
        "id": "166f9f4b",
        "outputId": "73f5bda2-4eb2-431e-ba81-4747923ff192"
      },
      "outputs": [
        {
          "data": {
            "text/html": [
              "<div>\n",
              "<style scoped>\n",
              "    .dataframe tbody tr th:only-of-type {\n",
              "        vertical-align: middle;\n",
              "    }\n",
              "\n",
              "    .dataframe tbody tr th {\n",
              "        vertical-align: top;\n",
              "    }\n",
              "\n",
              "    .dataframe thead th {\n",
              "        text-align: right;\n",
              "    }\n",
              "</style>\n",
              "<table border=\"1\" class=\"dataframe\">\n",
              "  <thead>\n",
              "    <tr style=\"text-align: right;\">\n",
              "      <th></th>\n",
              "      <th>PY9GRfzr4nTZeINf346QOw</th>\n",
              "      <th>W4ZEKkva9HpAdZG88juwyQ</th>\n",
              "      <th>SZU9c8V2GuREDN5KgyHFJw</th>\n",
              "      <th>Zi-F-YvyVOK0k5QD7lrLOg</th>\n",
              "      <th>GBTPC53ZrG1ZBY3DT8Mbcw</th>\n",
              "      <th>pSmOH4a3HNNpYM82J5ycLA</th>\n",
              "      <th>8uF-bhJFgT4Tn6DTb27viA</th>\n",
              "      <th>UCMSWPqzXjd7QHq7v8PJjQ</th>\n",
              "      <th>vN6v8m4DO45Z4pp8yxxF_w</th>\n",
              "      <th>g04aAvgol7IW8buqSbT4xA</th>\n",
              "      <th>...</th>\n",
              "      <th>oBNrLz4EDhiscSlbOl8uAw</th>\n",
              "      <th>skY6r8WAkYqpV7_TxNm23w</th>\n",
              "      <th>iRIHK8-EwpeffwvoO4nzIA</th>\n",
              "      <th>OdIBX09glfXNVSyd0RnIeg</th>\n",
              "      <th>qQO7ErS_RAN4Vs1uX0L55Q</th>\n",
              "      <th>ytynqOUb3hjKeJfRj5Tshw</th>\n",
              "      <th>0RuvlgTnKFbX3IK0ZOOocA</th>\n",
              "      <th>1b5mnK8bMnnju_cvU65GqQ</th>\n",
              "      <th>VAeEXLbEcI9Emt9KGYq9aA</th>\n",
              "      <th>QHWYlmVbLC3K6eglWoHVvA</th>\n",
              "    </tr>\n",
              "  </thead>\n",
              "  <tbody>\n",
              "    <tr>\n",
              "      <th>EBa-0-6AKoy6jziNexDJtg</th>\n",
              "      <td>-0.02740</td>\n",
              "      <td>-1.00000</td>\n",
              "      <td>-0.03901</td>\n",
              "      <td>0.98211</td>\n",
              "      <td>-1.00000</td>\n",
              "      <td>-0.18048</td>\n",
              "      <td>-0.26671</td>\n",
              "      <td>-0.02929</td>\n",
              "      <td>-0.05948</td>\n",
              "      <td>-0.05926</td>\n",
              "      <td>...</td>\n",
              "      <td>-1.00000</td>\n",
              "      <td>-0.04075</td>\n",
              "      <td>-0.04578</td>\n",
              "      <td>-0.32083</td>\n",
              "      <td>-0.31735</td>\n",
              "      <td>-0.27639</td>\n",
              "      <td>-0.29907</td>\n",
              "      <td>-0.18327</td>\n",
              "      <td>-0.17945</td>\n",
              "      <td>-0.13787</td>\n",
              "    </tr>\n",
              "    <tr>\n",
              "      <th>JYYYKt6TdVA4ng9lLcXt_g</th>\n",
              "      <td>-0.02740</td>\n",
              "      <td>-0.32274</td>\n",
              "      <td>-1.00000</td>\n",
              "      <td>0.29686</td>\n",
              "      <td>0.37888</td>\n",
              "      <td>-0.18048</td>\n",
              "      <td>0.35440</td>\n",
              "      <td>-0.02929</td>\n",
              "      <td>0.41665</td>\n",
              "      <td>-0.05926</td>\n",
              "      <td>...</td>\n",
              "      <td>-0.05207</td>\n",
              "      <td>0.66173</td>\n",
              "      <td>-0.04578</td>\n",
              "      <td>-0.32083</td>\n",
              "      <td>-0.31735</td>\n",
              "      <td>-0.27639</td>\n",
              "      <td>-0.29907</td>\n",
              "      <td>-0.18327</td>\n",
              "      <td>-0.17945</td>\n",
              "      <td>-0.13787</td>\n",
              "    </tr>\n",
              "    <tr>\n",
              "      <th>pitYOVSsF8R1gWG1G0qxsA</th>\n",
              "      <td>-0.02740</td>\n",
              "      <td>0.05062</td>\n",
              "      <td>-0.03901</td>\n",
              "      <td>-0.26386</td>\n",
              "      <td>-1.00000</td>\n",
              "      <td>-0.18048</td>\n",
              "      <td>-0.26671</td>\n",
              "      <td>-0.02929</td>\n",
              "      <td>-0.05948</td>\n",
              "      <td>0.34812</td>\n",
              "      <td>...</td>\n",
              "      <td>0.07513</td>\n",
              "      <td>-0.04075</td>\n",
              "      <td>0.59358</td>\n",
              "      <td>-0.32083</td>\n",
              "      <td>-0.31735</td>\n",
              "      <td>-0.27639</td>\n",
              "      <td>-0.29907</td>\n",
              "      <td>-0.18327</td>\n",
              "      <td>-0.17945</td>\n",
              "      <td>-0.13787</td>\n",
              "    </tr>\n",
              "    <tr>\n",
              "      <th>1xS8Jj23zHx8axIVopG3wA</th>\n",
              "      <td>-0.02740</td>\n",
              "      <td>-1.00000</td>\n",
              "      <td>-0.03901</td>\n",
              "      <td>0.17783</td>\n",
              "      <td>0.15293</td>\n",
              "      <td>-0.18048</td>\n",
              "      <td>-0.26671</td>\n",
              "      <td>-0.02929</td>\n",
              "      <td>-0.31941</td>\n",
              "      <td>-0.05926</td>\n",
              "      <td>...</td>\n",
              "      <td>0.31592</td>\n",
              "      <td>-0.04075</td>\n",
              "      <td>-0.04578</td>\n",
              "      <td>-0.32083</td>\n",
              "      <td>-0.31735</td>\n",
              "      <td>-0.27639</td>\n",
              "      <td>-0.29907</td>\n",
              "      <td>-0.18327</td>\n",
              "      <td>-0.17945</td>\n",
              "      <td>-0.13787</td>\n",
              "    </tr>\n",
              "    <tr>\n",
              "      <th>ftRgzVFzv6-TOCBXEOdWeQ</th>\n",
              "      <td>-0.02740</td>\n",
              "      <td>0.67574</td>\n",
              "      <td>-0.03901</td>\n",
              "      <td>0.28825</td>\n",
              "      <td>-1.00000</td>\n",
              "      <td>-0.18048</td>\n",
              "      <td>-1.00000</td>\n",
              "      <td>-0.02929</td>\n",
              "      <td>1.00693</td>\n",
              "      <td>0.52146</td>\n",
              "      <td>...</td>\n",
              "      <td>1.11606</td>\n",
              "      <td>-0.04075</td>\n",
              "      <td>-0.04578</td>\n",
              "      <td>-0.32083</td>\n",
              "      <td>-0.31735</td>\n",
              "      <td>-0.27639</td>\n",
              "      <td>-0.29907</td>\n",
              "      <td>-0.18327</td>\n",
              "      <td>-0.17945</td>\n",
              "      <td>-0.13787</td>\n",
              "    </tr>\n",
              "  </tbody>\n",
              "</table>\n",
              "<p>5 rows × 100 columns</p>\n",
              "</div>"
            ],
            "text/plain": [
              "                        PY9GRfzr4nTZeINf346QOw  W4ZEKkva9HpAdZG88juwyQ  \\\n",
              "EBa-0-6AKoy6jziNexDJtg                -0.02740                -1.00000   \n",
              "JYYYKt6TdVA4ng9lLcXt_g                -0.02740                -0.32274   \n",
              "pitYOVSsF8R1gWG1G0qxsA                -0.02740                 0.05062   \n",
              "1xS8Jj23zHx8axIVopG3wA                -0.02740                -1.00000   \n",
              "ftRgzVFzv6-TOCBXEOdWeQ                -0.02740                 0.67574   \n",
              "\n",
              "                        SZU9c8V2GuREDN5KgyHFJw  Zi-F-YvyVOK0k5QD7lrLOg  \\\n",
              "EBa-0-6AKoy6jziNexDJtg                -0.03901                 0.98211   \n",
              "JYYYKt6TdVA4ng9lLcXt_g                -1.00000                 0.29686   \n",
              "pitYOVSsF8R1gWG1G0qxsA                -0.03901                -0.26386   \n",
              "1xS8Jj23zHx8axIVopG3wA                -0.03901                 0.17783   \n",
              "ftRgzVFzv6-TOCBXEOdWeQ                -0.03901                 0.28825   \n",
              "\n",
              "                        GBTPC53ZrG1ZBY3DT8Mbcw  pSmOH4a3HNNpYM82J5ycLA  \\\n",
              "EBa-0-6AKoy6jziNexDJtg                -1.00000                -0.18048   \n",
              "JYYYKt6TdVA4ng9lLcXt_g                 0.37888                -0.18048   \n",
              "pitYOVSsF8R1gWG1G0qxsA                -1.00000                -0.18048   \n",
              "1xS8Jj23zHx8axIVopG3wA                 0.15293                -0.18048   \n",
              "ftRgzVFzv6-TOCBXEOdWeQ                -1.00000                -0.18048   \n",
              "\n",
              "                        8uF-bhJFgT4Tn6DTb27viA  UCMSWPqzXjd7QHq7v8PJjQ  \\\n",
              "EBa-0-6AKoy6jziNexDJtg                -0.26671                -0.02929   \n",
              "JYYYKt6TdVA4ng9lLcXt_g                 0.35440                -0.02929   \n",
              "pitYOVSsF8R1gWG1G0qxsA                -0.26671                -0.02929   \n",
              "1xS8Jj23zHx8axIVopG3wA                -0.26671                -0.02929   \n",
              "ftRgzVFzv6-TOCBXEOdWeQ                -1.00000                -0.02929   \n",
              "\n",
              "                        vN6v8m4DO45Z4pp8yxxF_w  g04aAvgol7IW8buqSbT4xA  ...  \\\n",
              "EBa-0-6AKoy6jziNexDJtg                -0.05948                -0.05926  ...   \n",
              "JYYYKt6TdVA4ng9lLcXt_g                 0.41665                -0.05926  ...   \n",
              "pitYOVSsF8R1gWG1G0qxsA                -0.05948                 0.34812  ...   \n",
              "1xS8Jj23zHx8axIVopG3wA                -0.31941                -0.05926  ...   \n",
              "ftRgzVFzv6-TOCBXEOdWeQ                 1.00693                 0.52146  ...   \n",
              "\n",
              "                        oBNrLz4EDhiscSlbOl8uAw  skY6r8WAkYqpV7_TxNm23w  \\\n",
              "EBa-0-6AKoy6jziNexDJtg                -1.00000                -0.04075   \n",
              "JYYYKt6TdVA4ng9lLcXt_g                -0.05207                 0.66173   \n",
              "pitYOVSsF8R1gWG1G0qxsA                 0.07513                -0.04075   \n",
              "1xS8Jj23zHx8axIVopG3wA                 0.31592                -0.04075   \n",
              "ftRgzVFzv6-TOCBXEOdWeQ                 1.11606                -0.04075   \n",
              "\n",
              "                        iRIHK8-EwpeffwvoO4nzIA  OdIBX09glfXNVSyd0RnIeg  \\\n",
              "EBa-0-6AKoy6jziNexDJtg                -0.04578                -0.32083   \n",
              "JYYYKt6TdVA4ng9lLcXt_g                -0.04578                -0.32083   \n",
              "pitYOVSsF8R1gWG1G0qxsA                 0.59358                -0.32083   \n",
              "1xS8Jj23zHx8axIVopG3wA                -0.04578                -0.32083   \n",
              "ftRgzVFzv6-TOCBXEOdWeQ                -0.04578                -0.32083   \n",
              "\n",
              "                        qQO7ErS_RAN4Vs1uX0L55Q  ytynqOUb3hjKeJfRj5Tshw  \\\n",
              "EBa-0-6AKoy6jziNexDJtg                -0.31735                -0.27639   \n",
              "JYYYKt6TdVA4ng9lLcXt_g                -0.31735                -0.27639   \n",
              "pitYOVSsF8R1gWG1G0qxsA                -0.31735                -0.27639   \n",
              "1xS8Jj23zHx8axIVopG3wA                -0.31735                -0.27639   \n",
              "ftRgzVFzv6-TOCBXEOdWeQ                -0.31735                -0.27639   \n",
              "\n",
              "                        0RuvlgTnKFbX3IK0ZOOocA  1b5mnK8bMnnju_cvU65GqQ  \\\n",
              "EBa-0-6AKoy6jziNexDJtg                -0.29907                -0.18327   \n",
              "JYYYKt6TdVA4ng9lLcXt_g                -0.29907                -0.18327   \n",
              "pitYOVSsF8R1gWG1G0qxsA                -0.29907                -0.18327   \n",
              "1xS8Jj23zHx8axIVopG3wA                -0.29907                -0.18327   \n",
              "ftRgzVFzv6-TOCBXEOdWeQ                -0.29907                -0.18327   \n",
              "\n",
              "                        VAeEXLbEcI9Emt9KGYq9aA  QHWYlmVbLC3K6eglWoHVvA  \n",
              "EBa-0-6AKoy6jziNexDJtg                -0.17945                -0.13787  \n",
              "JYYYKt6TdVA4ng9lLcXt_g                -0.17945                -0.13787  \n",
              "pitYOVSsF8R1gWG1G0qxsA                -0.17945                -0.13787  \n",
              "1xS8Jj23zHx8axIVopG3wA                -0.17945                -0.13787  \n",
              "ftRgzVFzv6-TOCBXEOdWeQ                -0.17945                -0.13787  \n",
              "\n",
              "[5 rows x 100 columns]"
            ]
          },
          "execution_count": 115,
          "metadata": {},
          "output_type": "execute_result"
        }
      ],
      "source": [
        "# create a data frame of user item score\n",
        "user_item_score=pd.DataFrame.from_dict(user_score_dict,orient='index',columns=df_matrix.columns)\n",
        "user_item_score.head()"
      ]
    },
    {
      "cell_type": "code",
      "execution_count": null,
      "id": "dce9c72a",
      "metadata": {
        "id": "dce9c72a"
      },
      "outputs": [],
      "source": [
        "user_item_recomend = pd.DataFrame(columns=['1','2','3','4','5'])"
      ]
    },
    {
      "cell_type": "code",
      "execution_count": null,
      "id": "c5c04a2b",
      "metadata": {
        "id": "c5c04a2b"
      },
      "outputs": [],
      "source": [
        "# get top 5 recommendation for every user\n",
        "for idx in user_item_score.index:\n",
        "  user_pref=user_item_score.loc[idx]\n",
        "  user_pref=user_pref.sort_values(ascending=False)[0:5]\n",
        "  user_item_recomend.loc[idx] = list(user_pref.index)"
      ]
    },
    {
      "cell_type": "code",
      "execution_count": null,
      "id": "6974189b",
      "metadata": {
        "id": "6974189b",
        "outputId": "f504c393-e0ad-4338-e0e2-25c1c7091996"
      },
      "outputs": [
        {
          "data": {
            "text/html": [
              "<div>\n",
              "<style scoped>\n",
              "    .dataframe tbody tr th:only-of-type {\n",
              "        vertical-align: middle;\n",
              "    }\n",
              "\n",
              "    .dataframe tbody tr th {\n",
              "        vertical-align: top;\n",
              "    }\n",
              "\n",
              "    .dataframe thead th {\n",
              "        text-align: right;\n",
              "    }\n",
              "</style>\n",
              "<table border=\"1\" class=\"dataframe\">\n",
              "  <thead>\n",
              "    <tr style=\"text-align: right;\">\n",
              "      <th></th>\n",
              "      <th>1</th>\n",
              "      <th>2</th>\n",
              "      <th>3</th>\n",
              "      <th>4</th>\n",
              "      <th>5</th>\n",
              "    </tr>\n",
              "  </thead>\n",
              "  <tbody>\n",
              "    <tr>\n",
              "      <th>EBa-0-6AKoy6jziNexDJtg</th>\n",
              "      <td>iwmW2mgcn2YdirXUHCsgXQ</td>\n",
              "      <td>Zi-F-YvyVOK0k5QD7lrLOg</td>\n",
              "      <td>c-iKAO2GBzSKjm7y1Oljcw</td>\n",
              "      <td>ww3YJXu5c18aGZXWmm00qg</td>\n",
              "      <td>Vz2RN55rTJBGn43K1v84nA</td>\n",
              "    </tr>\n",
              "    <tr>\n",
              "      <th>JYYYKt6TdVA4ng9lLcXt_g</th>\n",
              "      <td>U3grYFIeu6RgAAQgdriHww</td>\n",
              "      <td>ww3YJXu5c18aGZXWmm00qg</td>\n",
              "      <td>skY6r8WAkYqpV7_TxNm23w</td>\n",
              "      <td>yPSejq3_erxo9zdVYTBnZA</td>\n",
              "      <td>GuzbBFraIq-fbkjfvaTRvg</td>\n",
              "    </tr>\n",
              "    <tr>\n",
              "      <th>pitYOVSsF8R1gWG1G0qxsA</th>\n",
              "      <td>iRIHK8-EwpeffwvoO4nzIA</td>\n",
              "      <td>2BMk_drsikKWslJCXmQtjQ</td>\n",
              "      <td>UFCN0bYdHroPKu6KV5CJqg</td>\n",
              "      <td>g04aAvgol7IW8buqSbT4xA</td>\n",
              "      <td>BjeHLwKOlHyV6DJgmZxAjA</td>\n",
              "    </tr>\n",
              "    <tr>\n",
              "      <th>1xS8Jj23zHx8axIVopG3wA</th>\n",
              "      <td>Y2Pfil51rNvTd_lFHwzb_g</td>\n",
              "      <td>ChlcxTEoWBQJXJ2Xb2vm5g</td>\n",
              "      <td>iSRTaT9WngzB8JJ2YKJUig</td>\n",
              "      <td>VaO-VW3e1kARkU9bP1E7Fw</td>\n",
              "      <td>RLlOK2fL6xU1sfIPiP2QBw</td>\n",
              "    </tr>\n",
              "    <tr>\n",
              "      <th>ftRgzVFzv6-TOCBXEOdWeQ</th>\n",
              "      <td>Vz2RN55rTJBGn43K1v84nA</td>\n",
              "      <td>V9VLhHdSFpFi4yXFqVcVEA</td>\n",
              "      <td>hfbZ97Te3T4jeWN6GgsGrQ</td>\n",
              "      <td>oBNrLz4EDhiscSlbOl8uAw</td>\n",
              "      <td>vN6v8m4DO45Z4pp8yxxF_w</td>\n",
              "    </tr>\n",
              "  </tbody>\n",
              "</table>\n",
              "</div>"
            ],
            "text/plain": [
              "                                             1                       2  \\\n",
              "EBa-0-6AKoy6jziNexDJtg  iwmW2mgcn2YdirXUHCsgXQ  Zi-F-YvyVOK0k5QD7lrLOg   \n",
              "JYYYKt6TdVA4ng9lLcXt_g  U3grYFIeu6RgAAQgdriHww  ww3YJXu5c18aGZXWmm00qg   \n",
              "pitYOVSsF8R1gWG1G0qxsA  iRIHK8-EwpeffwvoO4nzIA  2BMk_drsikKWslJCXmQtjQ   \n",
              "1xS8Jj23zHx8axIVopG3wA  Y2Pfil51rNvTd_lFHwzb_g  ChlcxTEoWBQJXJ2Xb2vm5g   \n",
              "ftRgzVFzv6-TOCBXEOdWeQ  Vz2RN55rTJBGn43K1v84nA  V9VLhHdSFpFi4yXFqVcVEA   \n",
              "\n",
              "                                             3                       4  \\\n",
              "EBa-0-6AKoy6jziNexDJtg  c-iKAO2GBzSKjm7y1Oljcw  ww3YJXu5c18aGZXWmm00qg   \n",
              "JYYYKt6TdVA4ng9lLcXt_g  skY6r8WAkYqpV7_TxNm23w  yPSejq3_erxo9zdVYTBnZA   \n",
              "pitYOVSsF8R1gWG1G0qxsA  UFCN0bYdHroPKu6KV5CJqg  g04aAvgol7IW8buqSbT4xA   \n",
              "1xS8Jj23zHx8axIVopG3wA  iSRTaT9WngzB8JJ2YKJUig  VaO-VW3e1kARkU9bP1E7Fw   \n",
              "ftRgzVFzv6-TOCBXEOdWeQ  hfbZ97Te3T4jeWN6GgsGrQ  oBNrLz4EDhiscSlbOl8uAw   \n",
              "\n",
              "                                             5  \n",
              "EBa-0-6AKoy6jziNexDJtg  Vz2RN55rTJBGn43K1v84nA  \n",
              "JYYYKt6TdVA4ng9lLcXt_g  GuzbBFraIq-fbkjfvaTRvg  \n",
              "pitYOVSsF8R1gWG1G0qxsA  BjeHLwKOlHyV6DJgmZxAjA  \n",
              "1xS8Jj23zHx8axIVopG3wA  RLlOK2fL6xU1sfIPiP2QBw  \n",
              "ftRgzVFzv6-TOCBXEOdWeQ  vN6v8m4DO45Z4pp8yxxF_w  "
            ]
          },
          "execution_count": 118,
          "metadata": {},
          "output_type": "execute_result"
        }
      ],
      "source": [
        "user_item_recomend.head()"
      ]
    },
    {
      "cell_type": "markdown",
      "id": "556cc57d",
      "metadata": {
        "id": "556cc57d"
      },
      "source": [
        "### Collaborative filtering using Stochastic Gradient"
      ]
    },
    {
      "cell_type": "markdown",
      "id": "ac9891b0",
      "metadata": {
        "id": "ac9891b0"
      },
      "source": [
        "#### Create continous values for unique buisness_id and user_id which are of the form string"
      ]
    },
    {
      "cell_type": "code",
      "execution_count": null,
      "id": "187569ef",
      "metadata": {
        "id": "187569ef"
      },
      "outputs": [],
      "source": [
        "df_restaurant = pd.read_csv('csv/df_restaurant.csv')"
      ]
    },
    {
      "cell_type": "code",
      "execution_count": null,
      "id": "eee0571b",
      "metadata": {
        "id": "eee0571b"
      },
      "outputs": [],
      "source": [
        "items=df_restaurant.business_id.unique()\n",
        "users=df_restaurant.user_id.unique()"
      ]
    },
    {
      "cell_type": "code",
      "execution_count": null,
      "id": "1697ed0c",
      "metadata": {
        "id": "1697ed0c"
      },
      "outputs": [],
      "source": [
        "userid2idx = {o:i for i,o in enumerate(users)}\n",
        "items2idx = {o:i for i,o in enumerate(items)}"
      ]
    },
    {
      "cell_type": "code",
      "execution_count": null,
      "id": "e185e912",
      "metadata": {
        "id": "e185e912"
      },
      "outputs": [],
      "source": [
        "df_restaurant['business_id']=df_restaurant['business_id'].apply(lambda x: items2idx[x])\n",
        "df_restaurant['user_id']=df_restaurant['user_id'].apply(lambda x: userid2idx[x])"
      ]
    },
    {
      "cell_type": "code",
      "execution_count": null,
      "id": "76ae6775",
      "metadata": {
        "id": "76ae6775",
        "outputId": "745e1d4b-1e48-4729-f34d-be4620e68839"
      },
      "outputs": [
        {
          "data": {
            "text/html": [
              "<div>\n",
              "<style scoped>\n",
              "    .dataframe tbody tr th:only-of-type {\n",
              "        vertical-align: middle;\n",
              "    }\n",
              "\n",
              "    .dataframe tbody tr th {\n",
              "        vertical-align: top;\n",
              "    }\n",
              "\n",
              "    .dataframe thead th {\n",
              "        text-align: right;\n",
              "    }\n",
              "</style>\n",
              "<table border=\"1\" class=\"dataframe\">\n",
              "  <thead>\n",
              "    <tr style=\"text-align: right;\">\n",
              "      <th></th>\n",
              "      <th>user_id</th>\n",
              "      <th>business_id</th>\n",
              "      <th>stars</th>\n",
              "    </tr>\n",
              "  </thead>\n",
              "  <tbody>\n",
              "    <tr>\n",
              "      <th>0</th>\n",
              "      <td>0</td>\n",
              "      <td>0</td>\n",
              "      <td>3</td>\n",
              "    </tr>\n",
              "    <tr>\n",
              "      <th>1</th>\n",
              "      <td>1</td>\n",
              "      <td>1</td>\n",
              "      <td>3</td>\n",
              "    </tr>\n",
              "    <tr>\n",
              "      <th>2</th>\n",
              "      <td>2</td>\n",
              "      <td>2</td>\n",
              "      <td>5</td>\n",
              "    </tr>\n",
              "    <tr>\n",
              "      <th>3</th>\n",
              "      <td>3</td>\n",
              "      <td>3</td>\n",
              "      <td>4</td>\n",
              "    </tr>\n",
              "    <tr>\n",
              "      <th>4</th>\n",
              "      <td>4</td>\n",
              "      <td>4</td>\n",
              "      <td>1</td>\n",
              "    </tr>\n",
              "  </tbody>\n",
              "</table>\n",
              "</div>"
            ],
            "text/plain": [
              "   user_id  business_id  stars\n",
              "0        0            0      3\n",
              "1        1            1      3\n",
              "2        2            2      5\n",
              "3        3            3      4\n",
              "4        4            4      1"
            ]
          },
          "execution_count": 7,
          "metadata": {},
          "output_type": "execute_result"
        }
      ],
      "source": [
        "df_restaurant.head()"
      ]
    },
    {
      "cell_type": "code",
      "execution_count": null,
      "id": "d11bf38e",
      "metadata": {
        "id": "d11bf38e"
      },
      "outputs": [],
      "source": [
        "# unique users and items\n",
        "nitems=df_restaurant.business_id.nunique()\n",
        "nusers=df_restaurant.user_id.nunique()"
      ]
    },
    {
      "cell_type": "code",
      "execution_count": null,
      "id": "6b1081f5",
      "metadata": {
        "id": "6b1081f5",
        "outputId": "c68c12da-60c4-4fe1-d98e-9b1cba64da05"
      },
      "outputs": [
        {
          "data": {
            "text/plain": [
              "(1504895, 64577)"
            ]
          },
          "execution_count": 9,
          "metadata": {},
          "output_type": "execute_result"
        }
      ],
      "source": [
        "nusers,nitems"
      ]
    },
    {
      "cell_type": "markdown",
      "id": "0a1cac69",
      "metadata": {
        "id": "0a1cac69"
      },
      "source": [
        "### Train test split"
      ]
    },
    {
      "cell_type": "code",
      "execution_count": null,
      "id": "58df5762",
      "metadata": {
        "id": "58df5762",
        "outputId": "e86c9cb5-8f8e-4b6b-b15b-2108c9379ef6"
      },
      "outputs": [
        {
          "data": {
            "text/plain": [
              "((4611978, 3), (512443, 3))"
            ]
          },
          "execution_count": 10,
          "metadata": {},
          "output_type": "execute_result"
        }
      ],
      "source": [
        "train_idx, val_idx = train_test_split(range(df_restaurant.shape[0]), train_size=0.7,random_state=2971)\n",
        "df_train= df_restaurant.iloc[train_idx]\n",
        "df_validate = df_restaurant.iloc[val_idx]\n",
        "df_train.shape, df_validate.shape"
      ]
    },
    {
      "cell_type": "code",
      "execution_count": null,
      "id": "49810bde",
      "metadata": {
        "id": "49810bde"
      },
      "outputs": [],
      "source": [
        "def create_bias(name, inp, n_in, reg):\n",
        "    x = Embedding(n_in, 1, input_length=1, name=name)(inp)\n",
        "    return Flatten(name=name+'_flattened')(x)"
      ]
    },
    {
      "cell_type": "code",
      "execution_count": null,
      "id": "b8bdbaad",
      "metadata": {
        "id": "b8bdbaad"
      },
      "outputs": [],
      "source": [
        "def embedding_input(name, n_in, n_out, reg):\n",
        "    inp = Input(shape=(1,), dtype='int64', name=name)\n",
        "    return inp, Embedding(n_in, n_out, input_length=1, name=name.split('_')[0]+'_factor', embeddings_regularizer=l2(reg))(inp)"
      ]
    },
    {
      "cell_type": "code",
      "execution_count": null,
      "id": "3d90a354",
      "metadata": {
        "id": "3d90a354"
      },
      "outputs": [],
      "source": [
        "L = 45\n",
        "REG=8e-4"
      ]
    },
    {
      "cell_type": "code",
      "execution_count": null,
      "id": "a2657000",
      "metadata": {
        "id": "a2657000"
      },
      "outputs": [],
      "source": [
        "# Create embeddings \n",
        "user_input, mat_user_lf = embedding_input('user_input', nusers, L, REG)\n",
        "restraunts_input, mat_restau_lf = embedding_input('restraunts_input', nitems, L, REG)"
      ]
    },
    {
      "cell_type": "code",
      "execution_count": null,
      "id": "c1dc0e34",
      "metadata": {
        "id": "c1dc0e34"
      },
      "outputs": [],
      "source": [
        "# Create bias\n",
        "user_bias = create_bias('user_bias', user_input, nusers, REG)\n",
        "restraunts_bias = create_bias('movie_bias', restraunts_input, nitems, REG)"
      ]
    },
    {
      "cell_type": "code",
      "execution_count": null,
      "id": "f3a3125c",
      "metadata": {
        "id": "f3a3125c"
      },
      "outputs": [],
      "source": [
        "# create residuals matrix\n",
        "residual = Dot(axes=2, name=\"residual\")([mat_user_lf, mat_restau_lf])\n",
        "# Flatten the layer\n",
        "residual_flatten = Flatten(name=\"residual_flat\")(residual)"
      ]
    },
    {
      "cell_type": "code",
      "execution_count": null,
      "id": "a20b2666",
      "metadata": {
        "id": "a20b2666"
      },
      "outputs": [],
      "source": [
        "# regression layer\n",
        "regression = Add(name=\"regression\")([user_bias, restraunts_bias, residual_flatten])"
      ]
    },
    {
      "cell_type": "code",
      "execution_count": null,
      "id": "e11d0c89",
      "metadata": {
        "id": "e11d0c89"
      },
      "outputs": [],
      "source": [
        "# Create a tailor made sigmoid to keep output values within range 0-5\n",
        "def sigmoid_maker(low, high):\n",
        "    def custom_sigmoid(x):\n",
        "        return K.sigmoid(x)*(high - low) + low\n",
        "    return custom_sigmoid\n",
        "cs = sigmoid_maker(0, 5.5)"
      ]
    },
    {
      "cell_type": "code",
      "execution_count": null,
      "id": "73355016",
      "metadata": {
        "id": "73355016"
      },
      "outputs": [],
      "source": [
        "output = Activation(cs, name=\"Sigmoid\")(regression)"
      ]
    },
    {
      "cell_type": "code",
      "execution_count": null,
      "id": "a720e506",
      "metadata": {
        "id": "a720e506"
      },
      "outputs": [],
      "source": [
        "model_lf1 = Model([user_input, restraunts_input], output)\n",
        "model_lf1.compile(Adam(0.01), loss='mse')"
      ]
    },
    {
      "cell_type": "code",
      "execution_count": null,
      "id": "4b39be98",
      "metadata": {
        "id": "4b39be98",
        "outputId": "7a7e7627-565e-4fd6-c8b5-692512bb8b02"
      },
      "outputs": [
        {
          "name": "stdout",
          "output_type": "stream",
          "text": [
            "Model: \"model\"\n",
            "__________________________________________________________________________________________________\n",
            "Layer (type)                    Output Shape         Param #     Connected to                     \n",
            "==================================================================================================\n",
            "user_input (InputLayer)         [(None, 1)]          0                                            \n",
            "__________________________________________________________________________________________________\n",
            "restraunts_input (InputLayer)   [(None, 1)]          0                                            \n",
            "__________________________________________________________________________________________________\n",
            "user_factor (Embedding)         (None, 1, 45)        67720275    user_input[0][0]                 \n",
            "__________________________________________________________________________________________________\n",
            "restraunts_factor (Embedding)   (None, 1, 45)        2905965     restraunts_input[0][0]           \n",
            "__________________________________________________________________________________________________\n",
            "user_bias (Embedding)           (None, 1, 1)         1504895     user_input[0][0]                 \n",
            "__________________________________________________________________________________________________\n",
            "movie_bias (Embedding)          (None, 1, 1)         64577       restraunts_input[0][0]           \n",
            "__________________________________________________________________________________________________\n",
            "residual (Dot)                  (None, 1, 1)         0           user_factor[0][0]                \n",
            "                                                                 restraunts_factor[0][0]          \n",
            "__________________________________________________________________________________________________\n",
            "user_bias_flattened (Flatten)   (None, 1)            0           user_bias[0][0]                  \n",
            "__________________________________________________________________________________________________\n",
            "movie_bias_flattened (Flatten)  (None, 1)            0           movie_bias[0][0]                 \n",
            "__________________________________________________________________________________________________\n",
            "residual_flat (Flatten)         (None, 1)            0           residual[0][0]                   \n",
            "__________________________________________________________________________________________________\n",
            "regression (Add)                (None, 1)            0           user_bias_flattened[0][0]        \n",
            "                                                                 movie_bias_flattened[0][0]       \n",
            "                                                                 residual_flat[0][0]              \n",
            "__________________________________________________________________________________________________\n",
            "Sigmoid (Activation)            (None, 1)            0           regression[0][0]                 \n",
            "==================================================================================================\n",
            "Total params: 72,195,712\n",
            "Trainable params: 72,195,712\n",
            "Non-trainable params: 0\n",
            "__________________________________________________________________________________________________\n"
          ]
        }
      ],
      "source": [
        "model_lf1.summary()"
      ]
    },
    {
      "cell_type": "code",
      "execution_count": null,
      "id": "1cd8c91e",
      "metadata": {
        "id": "1cd8c91e",
        "outputId": "43ced085-edeb-4897-c255-07f228a923ff"
      },
      "outputs": [
        {
          "data": {
            "image/png": "[encoded data removed]",
            "text/plain": [
              "<IPython.core.display.Image object>"
            ]
          },
          "execution_count": 22,
          "metadata": {},
          "output_type": "execute_result"
        }
      ],
      "source": [
        "tf.keras.utils.plot_model(model_lf1)"
      ]
    },
    {
      "cell_type": "code",
      "execution_count": null,
      "id": "ea34f291",
      "metadata": {
        "id": "ea34f291"
      },
      "outputs": [],
      "source": [
        "history_lf1=model_lf1.fit([df_train.user_id, df_train.business_id], df_train.stars, batch_size=1024, epochs=3, validation_data=([df_validate.user_id, df_validate.business_id], df_validate.stars))"
      ]
    },
    {
      "cell_type": "code",
      "execution_count": null,
      "id": "bceadbb4",
      "metadata": {
        "id": "bceadbb4"
      },
      "outputs": [],
      "source": [
        "# plotting history \n",
        "sns.set_style('darkgrid')\n",
        "plt.rcParams['figure.figsize']=(8,5)\n",
        "plt.plot(history_lf1.history['loss'],label='Training Loss',color='red')\n",
        "plt.plot(history_lf1.history['val_loss'],label='Validation Loss',color='green')\n",
        "plt.xlabel('Number of Epochs',fontsize=15)\n",
        "plt.ylabel('Model Loss',fontsize=15)\n",
        "plt.title('Model Performance: Loss Plot',fontsize=18)\n",
        "plt.legend()"
      ]
    },
    {
      "cell_type": "code",
      "execution_count": null,
      "id": "a43220b8",
      "metadata": {
        "id": "a43220b8",
        "outputId": "7213a019-f265-4f0e-b8e1-df62db0bc2f1"
      },
      "outputs": [
        {
          "data": {
            "image/png": "[encoded data removed]",
            "text/plain": [
              "<IPython.core.display.Image object>"
            ]
          },
          "execution_count": 3,
          "metadata": {},
          "output_type": "execute_result"
        }
      ],
      "source": [
        "Image(filename='lossplot_sgd.png')"
      ]
    },
    {
      "cell_type": "markdown",
      "id": "ac4a2728",
      "metadata": {
        "id": "ac4a2728"
      },
      "source": [
        "### Hybrid Approach"
      ]
    },
    {
      "cell_type": "code",
      "execution_count": null,
      "id": "2ea5f562",
      "metadata": {
        "id": "2ea5f562"
      },
      "outputs": [],
      "source": [
        "users_review_count=df_restaurant.groupby('user_id')['stars'].count()\n",
        "freq_users=[]\n",
        "for i,val in users_review_count.items():\n",
        "  if val>2:\n",
        "    freq_users.append(i)\n",
        "df_restaurant=df_restaurant[df_restaurant['user_id'].isin(freq_users)]"
      ]
    },
    {
      "cell_type": "code",
      "execution_count": null,
      "id": "41a9c7bf",
      "metadata": {
        "id": "41a9c7bf"
      },
      "outputs": [],
      "source": [
        "most_rated_items=df_restaurant.groupby(['business_id'])['business_id'].count()\n",
        "popular_rest=[]\n",
        "for i,val in most_rated_items.items():\n",
        "  if val>1:\n",
        "    popular_rest.append(i)\n",
        "df_restaurant=df_restaurant[df_restaurant['user_id'].isin(popular_rest)]\n",
        "df_restaurant.reset_index(drop=True,inplace=True)"
      ]
    },
    {
      "cell_type": "markdown",
      "id": "bab30900",
      "metadata": {
        "id": "bab30900"
      },
      "source": [
        "### Users-Products matrix"
      ]
    },
    {
      "cell_type": "code",
      "execution_count": null,
      "id": "3c4dae18",
      "metadata": {
        "id": "3c4dae18"
      },
      "outputs": [],
      "source": [
        "items=df_restaurant.business_id.unique()\n",
        "users=df_restaurant.user_id.unique()"
      ]
    },
    {
      "cell_type": "code",
      "execution_count": null,
      "id": "0f33923d",
      "metadata": {
        "id": "0f33923d"
      },
      "outputs": [],
      "source": [
        "userid2idx = {o:i for i,o in enumerate(users)}\n",
        "items2idx = {o:i for i,o in enumerate(items)}"
      ]
    },
    {
      "cell_type": "code",
      "execution_count": null,
      "id": "18449d75",
      "metadata": {
        "id": "18449d75",
        "outputId": "6f5abe68-a33d-446b-b351-0e9e938eab83"
      },
      "outputs": [
        {
          "data": {
            "text/html": [
              "<div>\n",
              "<style scoped>\n",
              "    .dataframe tbody tr th:only-of-type {\n",
              "        vertical-align: middle;\n",
              "    }\n",
              "\n",
              "    .dataframe tbody tr th {\n",
              "        vertical-align: top;\n",
              "    }\n",
              "\n",
              "    .dataframe thead th {\n",
              "        text-align: right;\n",
              "    }\n",
              "</style>\n",
              "<table border=\"1\" class=\"dataframe\">\n",
              "  <thead>\n",
              "    <tr style=\"text-align: right;\">\n",
              "      <th></th>\n",
              "      <th>user_id</th>\n",
              "      <th>business_id</th>\n",
              "      <th>stars</th>\n",
              "    </tr>\n",
              "  </thead>\n",
              "  <tbody>\n",
              "    <tr>\n",
              "      <th>0</th>\n",
              "      <td>DBYhpb5hrAYgQjQaMhNYyQ</td>\n",
              "      <td>oJ4ik-4PZe6gexxW-tSmsw</td>\n",
              "      <td>4</td>\n",
              "    </tr>\n",
              "    <tr>\n",
              "      <th>1</th>\n",
              "      <td>XTWdXSOoUJnIMiVSA-1gDg</td>\n",
              "      <td>_RwlMTw9uFeOkfX9Ctf1HA</td>\n",
              "      <td>1</td>\n",
              "    </tr>\n",
              "    <tr>\n",
              "      <th>2</th>\n",
              "      <td>f6B7YotlkKfXr9xN-TbpwA</td>\n",
              "      <td>Bt7NBqA31uOI4H_hvasLLg</td>\n",
              "      <td>5</td>\n",
              "    </tr>\n",
              "    <tr>\n",
              "      <th>3</th>\n",
              "      <td>Fp0SeuMpAzcwPITfyF95hA</td>\n",
              "      <td>DuPRwh_pNsp4LkbICuF3Ig</td>\n",
              "      <td>4</td>\n",
              "    </tr>\n",
              "    <tr>\n",
              "      <th>4</th>\n",
              "      <td>DBYhpb5hrAYgQjQaMhNYyQ</td>\n",
              "      <td>JJNCJWaH2KV44r9aeEBlqA</td>\n",
              "      <td>4</td>\n",
              "    </tr>\n",
              "  </tbody>\n",
              "</table>\n",
              "</div>"
            ],
            "text/plain": [
              "                  user_id             business_id  stars\n",
              "0  DBYhpb5hrAYgQjQaMhNYyQ  oJ4ik-4PZe6gexxW-tSmsw      4\n",
              "1  XTWdXSOoUJnIMiVSA-1gDg  _RwlMTw9uFeOkfX9Ctf1HA      1\n",
              "2  f6B7YotlkKfXr9xN-TbpwA  Bt7NBqA31uOI4H_hvasLLg      5\n",
              "3  Fp0SeuMpAzcwPITfyF95hA  DuPRwh_pNsp4LkbICuF3Ig      4\n",
              "4  DBYhpb5hrAYgQjQaMhNYyQ  JJNCJWaH2KV44r9aeEBlqA      4"
            ]
          },
          "execution_count": 15,
          "metadata": {},
          "output_type": "execute_result"
        }
      ],
      "source": [
        "df_restaurant.head()"
      ]
    },
    {
      "cell_type": "code",
      "execution_count": null,
      "id": "82d476be",
      "metadata": {
        "id": "82d476be"
      },
      "outputs": [],
      "source": [
        "df_restaurant['business_id']=df_restaurant['business_id'].apply(lambda x: items2idx[x])\n",
        "df_restaurant['user_id']=df_restaurant['user_id'].apply(lambda x: userid2idx[x])"
      ]
    },
    {
      "cell_type": "code",
      "execution_count": null,
      "id": "cd323037",
      "metadata": {
        "id": "cd323037"
      },
      "outputs": [],
      "source": [
        "def make_user_item_matrix(user_item,df):\n",
        "  len_UI = user_item.shape[0]\n",
        "  for i in range(len_UI):\n",
        "    index = user_item['user_id'].iloc[i]\n",
        "    col = user_item['business_id'].iloc[i]\n",
        "    rate = user_item['stars'].iloc[i]\n",
        "    df[col].loc[index]=rate\n",
        "\n",
        "  return df\n"
      ]
    },
    {
      "cell_type": "code",
      "execution_count": null,
      "id": "7ad8d5d5",
      "metadata": {
        "id": "7ad8d5d5"
      },
      "outputs": [],
      "source": [
        "\n",
        "unique_items = df_restaurant.business_id.unique()\n",
        "unique_user = df_restaurant['user_id'].unique()\n",
        "null_ui_mat={}\n",
        "for i in unique_user:\n",
        "  r = list(np.zeros(len(unique_items)))\n",
        "  null_ui_mat[i]=r\n",
        "  \n",
        "UI_matrix = pd.DataFrame.from_dict(null_ui_mat,columns=unique_items,orient='index').astype('int32')"
      ]
    },
    {
      "cell_type": "code",
      "execution_count": null,
      "id": "2cf263f1",
      "metadata": {
        "id": "2cf263f1"
      },
      "outputs": [],
      "source": [
        "UI_matrix=make_user_item_matrix(df_restaurant,UI_matrix)"
      ]
    },
    {
      "cell_type": "code",
      "execution_count": null,
      "id": "fdf44b29",
      "metadata": {
        "id": "fdf44b29",
        "outputId": "572f231a-18b1-40b5-bc50-d8f2a09a32bc"
      },
      "outputs": [
        {
          "data": {
            "text/html": [
              "<div>\n",
              "<style scoped>\n",
              "    .dataframe tbody tr th:only-of-type {\n",
              "        vertical-align: middle;\n",
              "    }\n",
              "\n",
              "    .dataframe tbody tr th {\n",
              "        vertical-align: top;\n",
              "    }\n",
              "\n",
              "    .dataframe thead th {\n",
              "        text-align: right;\n",
              "    }\n",
              "</style>\n",
              "<table border=\"1\" class=\"dataframe\">\n",
              "  <thead>\n",
              "    <tr style=\"text-align: right;\">\n",
              "      <th></th>\n",
              "      <th>0</th>\n",
              "      <th>1</th>\n",
              "      <th>2</th>\n",
              "      <th>3</th>\n",
              "      <th>4</th>\n",
              "      <th>5</th>\n",
              "      <th>6</th>\n",
              "      <th>7</th>\n",
              "      <th>8</th>\n",
              "      <th>9</th>\n",
              "      <th>...</th>\n",
              "      <th>2703</th>\n",
              "      <th>2704</th>\n",
              "      <th>2705</th>\n",
              "      <th>2706</th>\n",
              "      <th>2707</th>\n",
              "      <th>2708</th>\n",
              "      <th>2709</th>\n",
              "      <th>2710</th>\n",
              "      <th>2711</th>\n",
              "      <th>2712</th>\n",
              "    </tr>\n",
              "  </thead>\n",
              "  <tbody>\n",
              "    <tr>\n",
              "      <th>0</th>\n",
              "      <td>4</td>\n",
              "      <td>0</td>\n",
              "      <td>0</td>\n",
              "      <td>0</td>\n",
              "      <td>4</td>\n",
              "      <td>0</td>\n",
              "      <td>0</td>\n",
              "      <td>0</td>\n",
              "      <td>0</td>\n",
              "      <td>0</td>\n",
              "      <td>...</td>\n",
              "      <td>0</td>\n",
              "      <td>0</td>\n",
              "      <td>0</td>\n",
              "      <td>0</td>\n",
              "      <td>0</td>\n",
              "      <td>0</td>\n",
              "      <td>0</td>\n",
              "      <td>0</td>\n",
              "      <td>0</td>\n",
              "      <td>0</td>\n",
              "    </tr>\n",
              "    <tr>\n",
              "      <th>1</th>\n",
              "      <td>0</td>\n",
              "      <td>1</td>\n",
              "      <td>0</td>\n",
              "      <td>0</td>\n",
              "      <td>0</td>\n",
              "      <td>0</td>\n",
              "      <td>0</td>\n",
              "      <td>0</td>\n",
              "      <td>0</td>\n",
              "      <td>0</td>\n",
              "      <td>...</td>\n",
              "      <td>0</td>\n",
              "      <td>0</td>\n",
              "      <td>0</td>\n",
              "      <td>0</td>\n",
              "      <td>0</td>\n",
              "      <td>0</td>\n",
              "      <td>0</td>\n",
              "      <td>0</td>\n",
              "      <td>0</td>\n",
              "      <td>0</td>\n",
              "    </tr>\n",
              "    <tr>\n",
              "      <th>2</th>\n",
              "      <td>0</td>\n",
              "      <td>0</td>\n",
              "      <td>5</td>\n",
              "      <td>0</td>\n",
              "      <td>0</td>\n",
              "      <td>0</td>\n",
              "      <td>0</td>\n",
              "      <td>0</td>\n",
              "      <td>0</td>\n",
              "      <td>0</td>\n",
              "      <td>...</td>\n",
              "      <td>0</td>\n",
              "      <td>0</td>\n",
              "      <td>0</td>\n",
              "      <td>0</td>\n",
              "      <td>0</td>\n",
              "      <td>0</td>\n",
              "      <td>0</td>\n",
              "      <td>0</td>\n",
              "      <td>0</td>\n",
              "      <td>0</td>\n",
              "    </tr>\n",
              "    <tr>\n",
              "      <th>3</th>\n",
              "      <td>0</td>\n",
              "      <td>0</td>\n",
              "      <td>0</td>\n",
              "      <td>4</td>\n",
              "      <td>0</td>\n",
              "      <td>0</td>\n",
              "      <td>0</td>\n",
              "      <td>0</td>\n",
              "      <td>0</td>\n",
              "      <td>0</td>\n",
              "      <td>...</td>\n",
              "      <td>0</td>\n",
              "      <td>0</td>\n",
              "      <td>0</td>\n",
              "      <td>0</td>\n",
              "      <td>0</td>\n",
              "      <td>0</td>\n",
              "      <td>0</td>\n",
              "      <td>0</td>\n",
              "      <td>0</td>\n",
              "      <td>0</td>\n",
              "    </tr>\n",
              "    <tr>\n",
              "      <th>4</th>\n",
              "      <td>0</td>\n",
              "      <td>0</td>\n",
              "      <td>0</td>\n",
              "      <td>0</td>\n",
              "      <td>0</td>\n",
              "      <td>1</td>\n",
              "      <td>0</td>\n",
              "      <td>0</td>\n",
              "      <td>0</td>\n",
              "      <td>0</td>\n",
              "      <td>...</td>\n",
              "      <td>0</td>\n",
              "      <td>0</td>\n",
              "      <td>0</td>\n",
              "      <td>0</td>\n",
              "      <td>0</td>\n",
              "      <td>0</td>\n",
              "      <td>0</td>\n",
              "      <td>0</td>\n",
              "      <td>0</td>\n",
              "      <td>0</td>\n",
              "    </tr>\n",
              "  </tbody>\n",
              "</table>\n",
              "<p>5 rows × 2713 columns</p>\n",
              "</div>"
            ],
            "text/plain": [
              "   0     1     2     3     4     5     6     7     8     9     ...  2703  \\\n",
              "0     4     0     0     0     4     0     0     0     0     0  ...     0   \n",
              "1     0     1     0     0     0     0     0     0     0     0  ...     0   \n",
              "2     0     0     5     0     0     0     0     0     0     0  ...     0   \n",
              "3     0     0     0     4     0     0     0     0     0     0  ...     0   \n",
              "4     0     0     0     0     0     1     0     0     0     0  ...     0   \n",
              "\n",
              "   2704  2705  2706  2707  2708  2709  2710  2711  2712  \n",
              "0     0     0     0     0     0     0     0     0     0  \n",
              "1     0     0     0     0     0     0     0     0     0  \n",
              "2     0     0     0     0     0     0     0     0     0  \n",
              "3     0     0     0     0     0     0     0     0     0  \n",
              "4     0     0     0     0     0     0     0     0     0  \n",
              "\n",
              "[5 rows x 2713 columns]"
            ]
          },
          "execution_count": 20,
          "metadata": {},
          "output_type": "execute_result"
        }
      ],
      "source": [
        "UI_matrix.head()"
      ]
    },
    {
      "cell_type": "code",
      "execution_count": null,
      "id": "993c1e59",
      "metadata": {
        "id": "993c1e59"
      },
      "outputs": [],
      "source": [
        "UI_matrix = pd.DataFrame(preprocessing.MinMaxScaler(feature_range=(0.5,1)).fit_transform(UI_matrix.values), \n",
        "columns=UI_matrix.columns, index=UI_matrix.index)"
      ]
    },
    {
      "cell_type": "code",
      "execution_count": null,
      "id": "4e928cec",
      "metadata": {
        "id": "4e928cec"
      },
      "outputs": [],
      "source": [
        "split = int(0.7*UI_matrix.shape[1])\n",
        "df_train = UI_matrix.loc[:, :split-1]\n",
        "df_val = UI_matrix.loc[:, split:]"
      ]
    },
    {
      "cell_type": "code",
      "execution_count": null,
      "id": "9419d718",
      "metadata": {
        "id": "9419d718",
        "outputId": "6d67f3d6-b320-4446-c84c-8ac55e4990d6"
      },
      "outputs": [
        {
          "data": {
            "text/html": [
              "<div>\n",
              "<style scoped>\n",
              "    .dataframe tbody tr th:only-of-type {\n",
              "        vertical-align: middle;\n",
              "    }\n",
              "\n",
              "    .dataframe tbody tr th {\n",
              "        vertical-align: top;\n",
              "    }\n",
              "\n",
              "    .dataframe thead th {\n",
              "        text-align: right;\n",
              "    }\n",
              "</style>\n",
              "<table border=\"1\" class=\"dataframe\">\n",
              "  <thead>\n",
              "    <tr style=\"text-align: right;\">\n",
              "      <th></th>\n",
              "      <th>user</th>\n",
              "      <th>items</th>\n",
              "      <th>y</th>\n",
              "    </tr>\n",
              "  </thead>\n",
              "  <tbody>\n",
              "    <tr>\n",
              "      <th>0</th>\n",
              "      <td>0</td>\n",
              "      <td>0</td>\n",
              "      <td>1.0</td>\n",
              "    </tr>\n",
              "    <tr>\n",
              "      <th>1</th>\n",
              "      <td>0</td>\n",
              "      <td>1</td>\n",
              "      <td>0.5</td>\n",
              "    </tr>\n",
              "    <tr>\n",
              "      <th>2</th>\n",
              "      <td>0</td>\n",
              "      <td>2</td>\n",
              "      <td>0.5</td>\n",
              "    </tr>\n",
              "    <tr>\n",
              "      <th>3</th>\n",
              "      <td>0</td>\n",
              "      <td>3</td>\n",
              "      <td>0.5</td>\n",
              "    </tr>\n",
              "    <tr>\n",
              "      <th>4</th>\n",
              "      <td>0</td>\n",
              "      <td>4</td>\n",
              "      <td>1.0</td>\n",
              "    </tr>\n",
              "  </tbody>\n",
              "</table>\n",
              "</div>"
            ],
            "text/plain": [
              "   user  items    y\n",
              "0     0      0  1.0\n",
              "1     0      1  0.5\n",
              "2     0      2  0.5\n",
              "3     0      3  0.5\n",
              "4     0      4  1.0"
            ]
          },
          "execution_count": 23,
          "metadata": {},
          "output_type": "execute_result"
        }
      ],
      "source": [
        "train = df_train.stack(dropna=True).reset_index().rename(columns={'level_0':'user','level_1':'items',0:\"y\"})\n",
        "train.head()"
      ]
    },
    {
      "cell_type": "code",
      "execution_count": null,
      "id": "abdd08d6",
      "metadata": {
        "id": "abdd08d6"
      },
      "outputs": [],
      "source": [
        "val = df_val.stack(dropna=True).reset_index().rename(columns={'level_0':'user','level_1':'items',0:\"y\"})"
      ]
    },
    {
      "cell_type": "code",
      "execution_count": null,
      "id": "e1c04d73",
      "metadata": {
        "id": "e1c04d73"
      },
      "outputs": [],
      "source": [
        "embeddings_shape = 50\n",
        "user,items = UI_matrix.shape[0], UI_matrix.shape[1]"
      ]
    },
    {
      "cell_type": "code",
      "execution_count": null,
      "id": "150bb0e2",
      "metadata": {
        "id": "150bb0e2"
      },
      "outputs": [],
      "source": [
        "nusers_in = Input(name=\"nusers_in\", shape=(1,))\n",
        "nproducts_in = Input(name=\"nproducts_in\", shape=(1,))"
      ]
    },
    {
      "cell_type": "markdown",
      "id": "ac9b3148",
      "metadata": {
        "id": "ac9b3148"
      },
      "source": [
        "### Matrix factorization"
      ]
    },
    {
      "cell_type": "code",
      "execution_count": null,
      "id": "0ce5a77d",
      "metadata": {
        "id": "0ce5a77d"
      },
      "outputs": [],
      "source": [
        "mf_nusers_emb = Embedding(name=\"cf_nusers_emb\", input_dim=user, output_dim=embeddings_shape)(nusers_in)\n",
        "mf_nusers = Reshape(name='cf_nusers', target_shape=(embeddings_shape,))(mf_nusers_emb)"
      ]
    },
    {
      "cell_type": "code",
      "execution_count": null,
      "id": "3dba3b51",
      "metadata": {
        "id": "3dba3b51"
      },
      "outputs": [],
      "source": [
        "mf_nproducts_emb = Embedding(name=\"cf_nproducts_emb\", input_dim=items, output_dim=embeddings_shape)(nproducts_in)\n",
        "mf_nproducts = Reshape(name='cf_nproducts', target_shape=(embeddings_shape,))(mf_nproducts_emb)"
      ]
    },
    {
      "cell_type": "code",
      "execution_count": null,
      "id": "bbe142fa",
      "metadata": {
        "id": "bbe142fa"
      },
      "outputs": [],
      "source": [
        "mf_product = Dot(name='cf_product', normalize=True, axes=1)([mf_nusers, mf_nproducts])"
      ]
    },
    {
      "cell_type": "markdown",
      "id": "95fc8115",
      "metadata": {
        "id": "95fc8115"
      },
      "source": [
        "### Neural Network"
      ]
    },
    {
      "cell_type": "code",
      "execution_count": null,
      "id": "78fea245",
      "metadata": {
        "id": "78fea245"
      },
      "outputs": [],
      "source": [
        "nn_nusers_emb = Embedding(name=\"nn_nusers_emb\", input_dim=user, output_dim=embeddings_shape)(nusers_in)\n",
        "nn_nusers = Reshape(name='nn_nusers', target_shape=(embeddings_shape,))(nn_nusers_emb)"
      ]
    },
    {
      "cell_type": "code",
      "execution_count": null,
      "id": "d42099f4",
      "metadata": {
        "id": "d42099f4"
      },
      "outputs": [],
      "source": [
        "nn_nproducts_emb = Embedding(name=\"nn_nproducts_emb\", input_dim=items, output_dim=embeddings_shape)(nproducts_in)\n",
        "nn_nproducts = Reshape(name='nn_nproducts', target_shape=(embeddings_shape,))(nn_nproducts_emb)"
      ]
    },
    {
      "cell_type": "code",
      "execution_count": null,
      "id": "14c16994",
      "metadata": {
        "id": "14c16994"
      },
      "outputs": [],
      "source": [
        "nn_product = Concatenate()([nn_nusers, nn_nproducts])\n",
        "nn_product = Dense(name=\"nn_product\", units=int(embeddings_shape/2), activation='relu')(nn_product)"
      ]
    },
    {
      "cell_type": "markdown",
      "id": "99d6106b",
      "metadata": {
        "id": "99d6106b"
      },
      "source": [
        "### Merging both"
      ]
    },
    {
      "cell_type": "code",
      "execution_count": null,
      "id": "c5bc110a",
      "metadata": {
        "id": "c5bc110a"
      },
      "outputs": [],
      "source": [
        "y_out = Concatenate()([mf_product, nn_product])\n",
        "y_out = Dense(name=\"y_out\", units=1, activation='linear')(y_out)"
      ]
    },
    {
      "cell_type": "code",
      "execution_count": null,
      "id": "dcc4a358",
      "metadata": {
        "id": "dcc4a358"
      },
      "outputs": [],
      "source": [
        "model_h = Model(inputs=[nusers_in,nproducts_in], outputs=y_out, name=\"Hybrid_filtering\")"
      ]
    },
    {
      "cell_type": "code",
      "execution_count": null,
      "id": "089203d7",
      "metadata": {
        "id": "089203d7",
        "outputId": "41131418-e305-4819-cb93-dd87f0f53ce3"
      },
      "outputs": [
        {
          "name": "stdout",
          "output_type": "stream",
          "text": [
            "Model: \"Hybrid_filtering\"\n",
            "__________________________________________________________________________________________________\n",
            "Layer (type)                    Output Shape         Param #     Connected to                     \n",
            "==================================================================================================\n",
            "nusers_in (InputLayer)          [(None, 1)]          0                                            \n",
            "__________________________________________________________________________________________________\n",
            "nproducts_in (InputLayer)       [(None, 1)]          0                                            \n",
            "__________________________________________________________________________________________________\n",
            "nn_nusers_emb (Embedding)       (None, 1, 50)        14300       nusers_in[0][0]                  \n",
            "__________________________________________________________________________________________________\n",
            "nn_nproducts_emb (Embedding)    (None, 1, 50)        135650      nproducts_in[0][0]               \n",
            "__________________________________________________________________________________________________\n",
            "cf_nusers_emb (Embedding)       (None, 1, 50)        14300       nusers_in[0][0]                  \n",
            "__________________________________________________________________________________________________\n",
            "cf_nproducts_emb (Embedding)    (None, 1, 50)        135650      nproducts_in[0][0]               \n",
            "__________________________________________________________________________________________________\n",
            "nn_nusers (Reshape)             (None, 50)           0           nn_nusers_emb[0][0]              \n",
            "__________________________________________________________________________________________________\n",
            "nn_nproducts (Reshape)          (None, 50)           0           nn_nproducts_emb[0][0]           \n",
            "__________________________________________________________________________________________________\n",
            "cf_nusers (Reshape)             (None, 50)           0           cf_nusers_emb[0][0]              \n",
            "__________________________________________________________________________________________________\n",
            "cf_nproducts (Reshape)          (None, 50)           0           cf_nproducts_emb[0][0]           \n",
            "__________________________________________________________________________________________________\n",
            "concatenate (Concatenate)       (None, 100)          0           nn_nusers[0][0]                  \n",
            "                                                                 nn_nproducts[0][0]               \n",
            "__________________________________________________________________________________________________\n",
            "cf_product (Dot)                (None, 1)            0           cf_nusers[0][0]                  \n",
            "                                                                 cf_nproducts[0][0]               \n",
            "__________________________________________________________________________________________________\n",
            "nn_product (Dense)              (None, 25)           2525        concatenate[0][0]                \n",
            "__________________________________________________________________________________________________\n",
            "concatenate_1 (Concatenate)     (None, 26)           0           cf_product[0][0]                 \n",
            "                                                                 nn_product[0][0]                 \n",
            "__________________________________________________________________________________________________\n",
            "y_out (Dense)                   (None, 1)            27          concatenate_1[0][0]              \n",
            "==================================================================================================\n",
            "Total params: 302,452\n",
            "Trainable params: 302,452\n",
            "Non-trainable params: 0\n",
            "__________________________________________________________________________________________________\n"
          ]
        }
      ],
      "source": [
        "model_h.summary()"
      ]
    },
    {
      "cell_type": "code",
      "execution_count": null,
      "id": "62fde7b3",
      "metadata": {
        "id": "62fde7b3"
      },
      "outputs": [],
      "source": [
        "model_h.compile(optimizer='adam', loss='mean_absolute_error', metrics=['mean_absolute_percentage_error'])"
      ]
    },
    {
      "cell_type": "code",
      "execution_count": null,
      "id": "82b36adb",
      "metadata": {
        "id": "82b36adb",
        "outputId": "d12559c7-af9c-46cd-9d11-07782609a28a"
      },
      "outputs": [
        {
          "data": {
            "image/png": "[encoded data removed]",
            "text/plain": [
              "<IPython.core.display.Image object>"
            ]
          },
          "execution_count": 37,
          "metadata": {},
          "output_type": "execute_result"
        }
      ],
      "source": [
        "utils.plot_model(model_h, show_shapes=True, show_layer_names=True)"
      ]
    },
    {
      "cell_type": "code",
      "execution_count": null,
      "id": "194ed977",
      "metadata": {
        "id": "194ed977",
        "outputId": "13f1063d-5007-4be0-8937-ba37143fa813"
      },
      "outputs": [
        {
          "name": "stdout",
          "output_type": "stream",
          "text": [
            "Epoch 1/10\n",
            "5941/5941 [==============================] - 25s 4ms/step - loss: 0.0074 - mean_absolute_percentage_error: 1.2396 - val_loss: 0.0025 - val_mean_absolute_percentage_error: 0.4274\n",
            "Epoch 2/10\n",
            "5941/5941 [==============================] - 25s 4ms/step - loss: 0.0030 - mean_absolute_percentage_error: 0.3632 - val_loss: 0.0018 - val_mean_absolute_percentage_error: 0.2937\n",
            "Epoch 3/10\n",
            "5941/5941 [==============================] - 25s 4ms/step - loss: 0.0031 - mean_absolute_percentage_error: 0.3731 - val_loss: 0.0014 - val_mean_absolute_percentage_error: 0.2130\n",
            "Epoch 4/10\n",
            "5941/5941 [==============================] - 24s 4ms/step - loss: 0.0030 - mean_absolute_percentage_error: 0.3668 - val_loss: 0.0014 - val_mean_absolute_percentage_error: 0.2118\n",
            "Epoch 5/10\n",
            "5941/5941 [==============================] - 24s 4ms/step - loss: 0.0030 - mean_absolute_percentage_error: 0.3608 - val_loss: 0.0016 - val_mean_absolute_percentage_error: 0.2461\n",
            "Epoch 6/10\n",
            "5941/5941 [==============================] - 24s 4ms/step - loss: 0.0030 - mean_absolute_percentage_error: 0.3568 - val_loss: 0.0013 - val_mean_absolute_percentage_error: 0.2028\n",
            "Epoch 7/10\n",
            "5941/5941 [==============================] - 24s 4ms/step - loss: 0.0030 - mean_absolute_percentage_error: 0.3524 - val_loss: 0.0014 - val_mean_absolute_percentage_error: 0.2064\n",
            "Epoch 8/10\n",
            "5941/5941 [==============================] - 23s 4ms/step - loss: 0.0030 - mean_absolute_percentage_error: 0.3499 - val_loss: 0.0014 - val_mean_absolute_percentage_error: 0.2174\n",
            "Epoch 9/10\n",
            "5941/5941 [==============================] - 24s 4ms/step - loss: 0.0029 - mean_absolute_percentage_error: 0.3462 - val_loss: 0.0015 - val_mean_absolute_percentage_error: 0.2302\n",
            "Epoch 10/10\n",
            "5941/5941 [==============================] - 24s 4ms/step - loss: 0.0029 - mean_absolute_percentage_error: 0.3420 - val_loss: 0.0012 - val_mean_absolute_percentage_error: 0.1782\n"
          ]
        }
      ],
      "source": [
        "history_lf1 = model_h.fit(x=[train[\"user\"], train[\"items\"]], y=train[\"y\"], epochs=10, batch_size=64, shuffle=True, validation_split=0.3)"
      ]
    },
    {
      "cell_type": "code",
      "execution_count": null,
      "id": "2b5438a3",
      "metadata": {
        "id": "2b5438a3",
        "outputId": "58dc34d1-a74c-46b0-aee8-e3e7d4b3cf27"
      },
      "outputs": [
        {
          "data": {
            "image/png": "[encoded data removed]",
            "text/plain": [
              "<Figure size 576x360 with 1 Axes>"
            ]
          },
          "metadata": {},
          "output_type": "display_data"
        }
      ],
      "source": [
        "sns.set_style('darkgrid')\n",
        "plt.rcParams['figure.figsize']=(8,5)\n",
        "plt.plot(history_lf1.history['mean_absolute_percentage_error'],label='Training Loss',color='red')\n",
        "plt.plot(history_lf1.history['val_mean_absolute_percentage_error'],label='Validation Loss',color='green')\n",
        "plt.xlabel('Number of Epochs',fontsize=15)\n",
        "plt.ylabel('Model Loss',fontsize=15)\n",
        "plt.title('Model Performance: Loss Plot',fontsize=18)\n",
        "plt.legend()\n",
        "plt.show()"
      ]
    },
    {
      "cell_type": "markdown",
      "id": "19b7b710",
      "metadata": {
        "id": "19b7b710"
      },
      "source": [
        "## Conclusion\n",
        "We tried different types of techniques to build a restaurant recommendation system. <br>\n",
        "EDA helped us gather insights about the data which helped in model building. The first cosine similarity based collaborative model was the starting point.<br>\n",
        "Moving on to the neural netowrk based models, the first one overfit the training data in just 3 epochs, so we decided to land on a hybrid model which performed far more better than the previous one.<br>"
      ]
    }
  ],
  "metadata": {
    "kernelspec": {
      "display_name": "Python 3 (ipykernel)",
      "language": "python",
      "name": "python3"
    },
    "language_info": {
      "codemirror_mode": {
        "name": "ipython",
        "version": 3
      },
      "file_extension": ".py",
      "mimetype": "text/x-python",
      "name": "python",
      "nbconvert_exporter": "python",
      "pygments_lexer": "ipython3",
      "version": "3.9.7"
    },
    "colab": {
      "name": "Final Draft.ipynb",
      "provenance": []
    }
  },
  "nbformat": 4,
  "nbformat_minor": 5
}